{
 "cells": [
  {
   "cell_type": "code",
   "execution_count": 258,
   "metadata": {},
   "outputs": [],
   "source": [
    "# Create an artificial binary classification problem\n",
    "from sklearn.datasets import make_classification\n",
    "n_classes=2\n",
    "n_features=10\n",
    "n_samples=500\n",
    "n_informative=2\n",
    "X, y = make_classification(n_samples=n_samples, n_features=n_features,\n",
    "                           n_informative=n_informative, n_redundant=0,\n",
    "                           n_classes=n_classes)"
   ]
  },
  {
   "cell_type": "code",
   "execution_count": 259,
   "metadata": {},
   "outputs": [],
   "source": [
    "# Define the model\n",
    "from sklearn.ensemble import RandomForestClassifier\n",
    "model = RandomForestClassifier()"
   ]
  },
  {
   "cell_type": "code",
   "execution_count": 260,
   "metadata": {},
   "outputs": [],
   "source": [
    "# Split the data\n",
    "from sklearn.model_selection import train_test_split\n",
    "X_train, X_test, y_train, y_test = train_test_split(\n",
    "    X, y, test_size=0.25)\n",
    "n_test = len(X_test)"
   ]
  },
  {
   "cell_type": "code",
   "execution_count": 261,
   "metadata": {},
   "outputs": [
    {
     "data": {
      "text/plain": [
       "RandomForestClassifier()"
      ]
     },
     "execution_count": 261,
     "metadata": {},
     "output_type": "execute_result"
    }
   ],
   "source": [
    "# Train the model\n",
    "model.fit(X_train, y_train)"
   ]
  },
  {
   "cell_type": "code",
   "execution_count": 262,
   "metadata": {},
   "outputs": [],
   "source": [
    "# Apply the trained model to the test set\n",
    "y_pred = model.predict(X_test)\n",
    "y_prob = model.predict_proba(X_test)"
   ]
  },
  {
   "cell_type": "code",
   "execution_count": 263,
   "metadata": {},
   "outputs": [
    {
     "data": {
      "text/plain": [
       "0.96"
      ]
     },
     "execution_count": 263,
     "metadata": {},
     "output_type": "execute_result"
    }
   ],
   "source": [
    "# Look at metrics\n",
    "from sklearn.metrics import accuracy_score\n",
    "accuracy_score(y_test, y_pred)"
   ]
  },
  {
   "cell_type": "code",
   "execution_count": 264,
   "metadata": {},
   "outputs": [],
   "source": [
    "# Look at explainability\n",
    "import shap\n",
    "\n",
    "# Since we are using random forest classifier, we can use \n",
    "# TreeExplainer, which is a fast method to estimate SHAP values\n",
    "# for tree models and ensembles of trees.\n",
    "explainer = shap.TreeExplainer(model)"
   ]
  },
  {
   "cell_type": "code",
   "execution_count": 265,
   "metadata": {},
   "outputs": [],
   "source": [
    "shap_values = []\n",
    "for i in range(len(X_test)):\n",
    "    shap_values.append(explainer.shap_values(X_test[i,:]))"
   ]
  },
  {
   "cell_type": "code",
   "execution_count": 266,
   "metadata": {},
   "outputs": [
    {
     "data": {
      "image/png": "[encoded data removed]",
      "text/plain": [
       "<Figure size 432x288 with 1 Axes>"
      ]
     },
     "metadata": {
      "needs_background": "light"
     },
     "output_type": "display_data"
    }
   ],
   "source": [
    "# Sum up feature importance across all examples\n",
    "shap_across_all = []\n",
    "for c in range(n_classes): # Iterate over all classes\n",
    "    sums = [0] * n_features\n",
    "    for i in range(n_test): # Iterate over all examples\n",
    "        for j in range(n_features): # Iterate over all features\n",
    "            #print(i, j)\n",
    "            sums[j] += abs(shap_values[i][c][j]) # Take the absolute value\n",
    "    sums = [x/n_samples for x in sums]\n",
    "    shap_across_all.append(sums)        \n",
    "import matplotlib.pyplot as plt\n",
    "import numpy as np\n",
    "fig = plt.figure()\n",
    "ax = fig.add_axes([0,0,1,1])\n",
    "feature_names = [x for x in range(n_features)]\n",
    "X = np.arange(n_features)\n",
    "ax.bar(X, shap_across_all[0], color = 'b', width=0.5)\n",
    "ax.set_ylabel('Average Feature Importance')\n",
    "ax.set_xlabel('Feature')\n",
    "#ax.bar(X + 0.33, shap_across_all[1], color = 'g', width=0.33)\n",
    "plt.show()"
   ]
  },
  {
   "cell_type": "markdown",
   "metadata": {},
   "source": [
    "In the above figure, there should be n_informative important features, though it seems like usually there is one dominant feature."
   ]
  },
  {
   "cell_type": "code",
   "execution_count": 267,
   "metadata": {},
   "outputs": [
    {
     "data": {
      "image/png": "[encoded data removed]",
      "text/plain": [
       "<Figure size 576x396 with 1 Axes>"
      ]
     },
     "metadata": {
      "needs_background": "light"
     },
     "output_type": "display_data"
    }
   ],
   "source": [
    "# Probably a simpler way of summarizing importance of features \n",
    "shap_values = explainer.shap_values(X_test)\n",
    "shap.summary_plot(shap_values, X_test)"
   ]
  },
  {
   "cell_type": "code",
   "execution_count": 268,
   "metadata": {},
   "outputs": [
    {
     "data": {
      "text/html": [
       "\n",
       "<div id='iQBWS7XOBVP8GLWGKPMAT'>\n",
       "<div style='color: #900; text-align: center;'>\n",
       "  <b>Visualization omitted, Javascript library not loaded!</b><br>\n",
       "  Have you run `initjs()` in this notebook? If this notebook was from another\n",
       "  user you must also trust this notebook (File -> Trust notebook). If you are viewing\n",
       "  this notebook on github the Javascript has been stripped for security. If you are using\n",
       "  JupyterLab this error is because a JupyterLab extension has not yet been written.\n",
       "</div></div>\n",
       " <script>\n",
       "   if (window.SHAP) SHAP.ReactDom.render(\n",
       "    SHAP.React.createElement(SHAP.AdditiveForceVisualizer, {\"outNames\": [\"f(x)\"], \"baseValue\": 0.4957066666666666, \"outValue\": 0.059999999999999665, \"link\": \"identity\", \"featureNames\": [-0.8609114544958064, -1.9471060722368605, 1.4456246920716829, 1.7289741760170714, 0.6500194356316147, -0.08139044400491979, -1.2091102866436643, 0.5722366188347301, 1.649068377605759, -0.2056437678592014], \"features\": {\"0\": {\"effect\": -0.003716364666900194, \"value\": \"\"}, \"1\": {\"effect\": 0.0031271376356045155, \"value\": \"\"}, \"2\": {\"effect\": 0.004855802196986975, \"value\": \"\"}, \"3\": {\"effect\": 0.0158621521303185, \"value\": \"\"}, \"4\": {\"effect\": -0.004127561477960267, \"value\": \"\"}, \"5\": {\"effect\": -0.01784460351576705, \"value\": \"\"}, \"6\": {\"effect\": -0.01101981068113552, \"value\": \"\"}, \"7\": {\"effect\": -0.0033818222566824054, \"value\": \"\"}, \"8\": {\"effect\": -0.4147121320326989, \"value\": \"\"}, \"9\": {\"effect\": -0.0047494639984325925, \"value\": \"\"}}, \"plot_cmap\": \"RdBu\", \"labelMargin\": 20}),\n",
       "    document.getElementById('iQBWS7XOBVP8GLWGKPMAT')\n",
       "  );\n",
       "</script>"
      ],
      "text/plain": [
       "<shap.plots._force.AdditiveForceVisualizer at 0x16e19c640>"
      ]
     },
     "execution_count": 268,
     "metadata": {},
     "output_type": "execute_result"
    }
   ],
   "source": [
    "# This might work outside of jupyter\n",
    "shap.plots.force(explainer.expected_value[0], \n",
    "                 shap_values[0][0],\n",
    "                 X_test[0,:])"
   ]
  },
  {
   "cell_type": "code",
   "execution_count": null,
   "metadata": {},
   "outputs": [],
   "source": []
  }
 ],
 "metadata": {
  "kernelspec": {
   "display_name": "Python 3",
   "language": "python",
   "name": "python3"
  },
  "language_info": {
   "codemirror_mode": {
    "name": "ipython",
    "version": 3
   },
   "file_extension": ".py",
   "mimetype": "text/x-python",
   "name": "python",
   "nbconvert_exporter": "python",
   "pygments_lexer": "ipython3",
   "version": "3.9.4"
  }
 },
 "nbformat": 4,
 "nbformat_minor": 4
}
