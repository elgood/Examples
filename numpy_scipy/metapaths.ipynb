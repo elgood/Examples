{
 "cells": [
  {
   "cell_type": "code",
   "execution_count": 27,
   "metadata": {},
   "outputs": [],
   "source": [
    "import numpy as np"
   ]
  },
  {
   "cell_type": "code",
   "execution_count": 28,
   "metadata": {},
   "outputs": [],
   "source": [
    "# Setting up indices for authors\n",
    "Alice = 0\n",
    "Bob = 1\n",
    "Charlie = 2\n",
    "Delfina = 3"
   ]
  },
  {
   "cell_type": "code",
   "execution_count": 29,
   "metadata": {},
   "outputs": [],
   "source": [
    "# Setting up indices for papers\n",
    "paper1 = 0\n",
    "paper2 = 1\n",
    "paper3 = 2"
   ]
  },
  {
   "cell_type": "code",
   "execution_count": 30,
   "metadata": {},
   "outputs": [],
   "source": [
    "# Setting up indices for conferences\n",
    "conference1 = 0\n",
    "conference2 = 1"
   ]
  },
  {
   "cell_type": "code",
   "execution_count": 31,
   "metadata": {},
   "outputs": [],
   "source": [
    "# The author wrote paper relationship matrix\n",
    "wrote = np.zeros((4,3), dtype=int)"
   ]
  },
  {
   "cell_type": "code",
   "execution_count": 32,
   "metadata": {},
   "outputs": [
    {
     "data": {
      "text/plain": [
       "array([[1, 1, 0],\n",
       "       [1, 1, 0],\n",
       "       [0, 1, 0],\n",
       "       [0, 0, 1]])"
      ]
     },
     "execution_count": 32,
     "metadata": {},
     "output_type": "execute_result"
    }
   ],
   "source": [
    "wrote[Alice, paper1] = 1\n",
    "wrote[Bob, paper1] = 1\n",
    "wrote[Alice, paper2] = 1\n",
    "wrote[Bob, paper2] = 1\n",
    "wrote[Charlie, paper2] = 1\n",
    "wrote[Delfina, paper3] = 1\n",
    "wrote"
   ]
  },
  {
   "cell_type": "code",
   "execution_count": 35,
   "metadata": {},
   "outputs": [
    {
     "name": "stdout",
     "output_type": "stream",
     "text": [
      "wrote    1 2 3\n",
      "Alice   [1 1 0]\n",
      "Bob     [1 1 0]\n",
      "Charlie [0 1 0]\n",
      "Delfina [0 0 1]\n",
      "wrote * wrote^t\n",
      "         A B C D\n",
      "Alice   [2 2 1 0]\n",
      "Bob     [2 2 1 0]\n",
      "Charlie [1 1 1 0]\n",
      "Delfina [0 0 0 1]\n"
     ]
    }
   ],
   "source": [
    "wrote_wrote_t = np.matmul(wrote, np.transpose(wrote))\n",
    "print(\"wrote    1 2 3\")\n",
    "print(\"Alice  \", wrote[Alice])\n",
    "print(\"Bob    \", wrote[Bob])\n",
    "print(\"Charlie\", wrote[Charlie])\n",
    "print(\"Delfina\", wrote[Delfina])\n",
    "print(\"wrote * wrote^t\")\n",
    "print(\"         A B C D\")\n",
    "print(\"Alice  \", wrote_wrote_t[Alice])\n",
    "print(\"Bob    \", wrote_wrote_t[Bob])\n",
    "print(\"Charlie\", wrote_wrote_t[Charlie])\n",
    "print(\"Delfina\", wrote_wrote_t[Delfina])"
   ]
  },
  {
   "cell_type": "code",
   "execution_count": 44,
   "metadata": {},
   "outputs": [],
   "source": [
    "published = np.zeros((3,2), dtype=int)\n",
    "published[paper1, conference1] = 1\n",
    "published[paper2, conference2] = 1\n",
    "published[paper3, conference2] = 1"
   ]
  },
  {
   "cell_type": "code",
   "execution_count": 45,
   "metadata": {},
   "outputs": [
    {
     "name": "stdout",
     "output_type": "stream",
     "text": [
      "         A B C D\n",
      "Alice   [2 2 1 1]\n",
      "Bob     [2 2 1 1]\n",
      "Charlie [1 1 1 1]\n",
      "Delfina [1 1 1 1]\n"
     ]
    }
   ],
   "source": [
    "apc = np.matmul(wrote, published)\n",
    "apcp = np.matmul(apc, np.transpose(published))\n",
    "apcpa = np.matmul(apcp, np.transpose(wrote))\n",
    "print(\"         A B C D\")\n",
    "print(\"Alice  \", apcpa[Alice])\n",
    "print(\"Bob    \", apcpa[Bob])\n",
    "print(\"Charlie\", apcpa[Charlie])\n",
    "print(\"Delfina\", apcpa[Delfina])"
   ]
  },
  {
   "cell_type": "code",
   "execution_count": null,
   "metadata": {},
   "outputs": [],
   "source": []
  }
 ],
 "metadata": {
  "kernelspec": {
   "display_name": "Python 3",
   "language": "python",
   "name": "python3"
  },
  "language_info": {
   "codemirror_mode": {
    "name": "ipython",
    "version": 3
   },
   "file_extension": ".py",
   "mimetype": "text/x-python",
   "name": "python",
   "nbconvert_exporter": "python",
   "pygments_lexer": "ipython3",
   "version": "3.9.4"
  }
 },
 "nbformat": 4,
 "nbformat_minor": 4
}
