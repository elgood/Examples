{
 "cells": [
  {
   "cell_type": "code",
   "execution_count": 32,
   "metadata": {},
   "outputs": [],
   "source": [
    "import numpy as np\n",
    "from scipy.sparse import (csr_matrix, csr_matrix, coo_matrix,\n",
    "                bsr_matrix, dia_matrix, dok_matrix, lil_matrix)\n",
    "from numpy.random import rand\n",
    "from time import time\n",
    "import random\n",
    "\n",
    "n = 10000 # dimension of matrix"
   ]
  },
  {
   "cell_type": "markdown",
   "metadata": {},
   "source": [
    "# List of Lists format (lil_matrix)"
   ]
  },
  {
   "cell_type": "markdown",
   "metadata": {},
   "source": [
    "Create a list of list matrix that is of size n x n.  We will fill that one with random values.  Also create lil matrix that is identity."
   ]
  },
  {
   "cell_type": "code",
   "execution_count": 33,
   "metadata": {},
   "outputs": [],
   "source": [
    "lil1 = lil_matrix((n,n))\n",
    "lilIdentity = lil_matrix((n,n))"
   ]
  },
  {
   "cell_type": "markdown",
   "metadata": {},
   "source": [
    "Fill the first one hundred values of the zeroth row with random numbers over the distribution [0, 1).  Then fill the diagonal also with random numbers."
   ]
  },
  {
   "cell_type": "code",
   "execution_count": 34,
   "metadata": {},
   "outputs": [],
   "source": [
    "lil1[0, :100] = rand(100)\n",
    "lil1.setdiag(rand(n))\n"
   ]
  },
  {
   "cell_type": "markdown",
   "metadata": {},
   "source": [
    "Fill in the identity matrix."
   ]
  },
  {
   "cell_type": "code",
   "execution_count": 35,
   "metadata": {},
   "outputs": [],
   "source": [
    "for i in range(n):\n",
    "    lilIdentity[i,i] = 1"
   ]
  },
  {
   "cell_type": "markdown",
   "metadata": {},
   "source": [
    "See how long it takes to multiply a lil matrix with another lil matrix."
   ]
  },
  {
   "cell_type": "code",
   "execution_count": 36,
   "metadata": {},
   "outputs": [
    {
     "name": "stdout",
     "output_type": "stream",
     "text": [
      "Time(s) for lil multiply: 0.004474163055419922\n"
     ]
    }
   ],
   "source": [
    "time1 = time()\n",
    "lil1 = lil1*lilIdentity\n",
    "print(\"Time(s) for lil multiply: \" + str(time() - time1))"
   ]
  },
  {
   "cell_type": "markdown",
   "metadata": {},
   "source": [
    "Convert them to dense matrices and see how long the multiply takes."
   ]
  },
  {
   "cell_type": "code",
   "execution_count": 37,
   "metadata": {},
   "outputs": [
    {
     "name": "stdout",
     "output_type": "stream",
     "text": [
      "Time(s) for dense multiple: 1.6002421379089355\n"
     ]
    }
   ],
   "source": [
    "dense1 = lil1.toarray()\n",
    "denseIdentity = lilIdentity.toarray()\n",
    "time1 = time()\n",
    "dense1 = dense1 * denseIdentity\n",
    "print(\"Time(s) for dense multiple: \" + str(time() - time1))"
   ]
  },
  {
   "cell_type": "markdown",
   "metadata": {},
   "source": [
    "Now how does adding matrices compare?"
   ]
  },
  {
   "cell_type": "code",
   "execution_count": 38,
   "metadata": {},
   "outputs": [
    {
     "name": "stdout",
     "output_type": "stream",
     "text": [
      "Time(s) for lil add: 0.0006101131439208984\n"
     ]
    }
   ],
   "source": [
    "lil2 = lil1\n",
    "time1 = time()\n",
    "lil2 = lil2 + lil2\n",
    "print(\"Time(s) for lil add: \" + str(time() - time1))"
   ]
  },
  {
   "cell_type": "code",
   "execution_count": 39,
   "metadata": {},
   "outputs": [
    {
     "name": "stdout",
     "output_type": "stream",
     "text": [
      "Time(s) for dense add: 0.6401793956756592\n"
     ]
    }
   ],
   "source": [
    "dense1 = lil1.toarray()\n",
    "denseIdentity = lilIdentity.toarray()\n",
    "time1 = time()\n",
    "dense1 = dense1 + dense1\n",
    "print(\"Time(s) for dense add: \" + str(time() - time1))"
   ]
  },
  {
   "cell_type": "markdown",
   "metadata": {},
   "source": [
    "What happens when a lil matrix has many values?"
   ]
  },
  {
   "cell_type": "code",
   "execution_count": 40,
   "metadata": {},
   "outputs": [
    {
     "name": "stdout",
     "output_type": "stream",
     "text": [
      "Fraction nonzero: 0.09516356\n",
      "Time for lil multiply: 28.344743967056274\n",
      "Time for dense multiply: 0.449354887008667\n"
     ]
    }
   ],
   "source": [
    "lilManyValues = lil_matrix((n,n))\n",
    "numValues = int(n*n / 10)\n",
    "for iter in range(numValues):\n",
    "    i = random.randrange(n)\n",
    "    j = random.randrange(n)\n",
    "    lilManyValues[i,j] = 1\n",
    "print(\"Fraction nonzero: \" + str(lilManyValues.count_nonzero() / (n*n)))\n",
    "    \n",
    "time1 = time()\n",
    "lilManyValues = lilManyValues * lilManyValues\n",
    "print(\"Time for lil multiply: \" + str(time() - time1))\n",
    "\n",
    "denseManyValues = lilManyValues.toarray()\n",
    "time1 = time()\n",
    "denseManyValues = denseManyValues * denseManyValues\n",
    "print(\"Time for dense multiply: \" + str(time() - time1))"
   ]
  },
  {
   "cell_type": "markdown",
   "metadata": {},
   "source": [
    "# Compressed Sparse Row (csr_matrix) and Compressed Sparse Column (csc_matrix)"
   ]
  },
  {
   "cell_type": "code",
   "execution_count": 41,
   "metadata": {},
   "outputs": [],
   "source": [
    "csr1 = lil1.tocsr()\n",
    "csc1 = lil1.tocsc()\n",
    "csrIdentity = lilIdentity.tocsr()\n",
    "cscIdentity = lilIdentity.tocsc()"
   ]
  },
  {
   "cell_type": "code",
   "execution_count": 42,
   "metadata": {},
   "outputs": [
    {
     "name": "stdout",
     "output_type": "stream",
     "text": [
      "Time(s) for csr multiply: 0.0008141994476318359\n"
     ]
    }
   ],
   "source": [
    "time1 = time()\n",
    "csr1 = csr1*csr1\n",
    "print(\"Time(s) for csr multiply: \" + str(time() - time1))"
   ]
  },
  {
   "cell_type": "code",
   "execution_count": 43,
   "metadata": {},
   "outputs": [
    {
     "name": "stdout",
     "output_type": "stream",
     "text": [
      "Time(s) for csr add: 0.0004820823669433594\n"
     ]
    }
   ],
   "source": [
    "csr2 = csr1\n",
    "time1 = time()\n",
    "csr2 = csr2 + csr2\n",
    "print(\"Time(s) for csr add: \" + str(time() - time1))"
   ]
  },
  {
   "cell_type": "code",
   "execution_count": 44,
   "metadata": {},
   "outputs": [
    {
     "name": "stdout",
     "output_type": "stream",
     "text": [
      "Time(s) for accessing rows: 0.869877815246582\n",
      "Time(s) for accessing columns: 2.2714409828186035\n"
     ]
    }
   ],
   "source": [
    "iters = 10000\n",
    "time1 = time()\n",
    "for i in range(iters):\n",
    "    index = random.randrange(n)\n",
    "    row = csr1[index,:]\n",
    "    nnz = row.count_nonzero()\n",
    "print(\"Time(s) for accessing rows: \" + str(time() - time1))\n",
    "for i in range(iters):\n",
    "    index = random.randrange(n)\n",
    "    row = csr1[:,index]\n",
    "    nnz = row.count_nonzero()\n",
    "print(\"Time(s) for accessing columns: \" + str(time() - time1))\n"
   ]
  },
  {
   "cell_type": "code",
   "execution_count": 45,
   "metadata": {},
   "outputs": [
    {
     "name": "stdout",
     "output_type": "stream",
     "text": [
      "Time(s) for accessing rows: 1.4538440704345703\n",
      "Time(s) for accessing columns: 2.289771795272827\n"
     ]
    }
   ],
   "source": [
    "iters = 10000\n",
    "time1 = time()\n",
    "for i in range(iters):\n",
    "    index = random.randrange(n)\n",
    "    row = csc1[index,:]\n",
    "    nnz = row.count_nonzero()\n",
    "print(\"Time(s) for accessing rows: \" + str(time() - time1))\n",
    "for i in range(iters):\n",
    "    index = random.randrange(n)\n",
    "    row = csc1[:,index]\n",
    "    nnz = row.count_nonzero()\n",
    "print(\"Time(s) for accessing columns: \" + str(time() - time1))"
   ]
  },
  {
   "cell_type": "markdown",
   "metadata": {},
   "source": [
    "# Hindom Optimization Equation "
   ]
  },
  {
   "cell_type": "markdown",
   "metadata": {},
   "source": [
    "F(t+1)=(1/(1+mu)) D^(-1/2) M' D^(-1/2) F(t) + (mu/(1+mu)) Y"
   ]
  },
  {
   "cell_type": "markdown",
   "metadata": {},
   "source": [
    "Create something that looks like M' of Hindom."
   ]
  },
  {
   "cell_type": "code",
   "execution_count": 46,
   "metadata": {},
   "outputs": [
    {
     "name": "stdout",
     "output_type": "stream",
     "text": [
      "Fraction nonzero: 0.0485\n"
     ]
    }
   ],
   "source": [
    "n = 100 \n",
    "M = lil_matrix((n,n))\n",
    "numValues = 500\n",
    "for iter in range(numValues):\n",
    "    i = random.randrange(n)\n",
    "    j = random.randrange(n)\n",
    "    M[i,j] = random.random() # [0,1)\n",
    "print(\"Fraction nonzero: \" + str(M.count_nonzero() / (n*n)))\n",
    "M = M.tocsr()"
   ]
  },
  {
   "cell_type": "markdown",
   "metadata": {},
   "source": [
    "Actually have to create an affinity matrix."
   ]
  },
  {
   "cell_type": "code",
   "execution_count": 47,
   "metadata": {},
   "outputs": [
    {
     "name": "stdout",
     "output_type": "stream",
     "text": [
      "(100, 100)\n"
     ]
    }
   ],
   "source": [
    "import math\n",
    "W = M.toarray()\n",
    "for i in range(n):\n",
    "    for j in range(n):\n",
    "        if i == j:\n",
    "            W[i,j] = 0\n",
    "        else:\n",
    "            W[i,j] = math.exp(-np.linalg.norm(M[i,:].toarray() - M[j,:].toarray(), ord=2))\n",
    "M = W\n",
    "print(M.shape)"
   ]
  },
  {
   "cell_type": "markdown",
   "metadata": {},
   "source": [
    "Create diagonal matrix D"
   ]
  },
  {
   "cell_type": "code",
   "execution_count": 49,
   "metadata": {},
   "outputs": [],
   "source": [
    "data = np.squeeze(np.asarray(M.sum(axis=1))) # sum the rows\n",
    "offsets = np.array([0])\n",
    "D = dia_matrix((data, offsets), shape=(n,n))"
   ]
  },
  {
   "cell_type": "markdown",
   "metadata": {},
   "source": [
    "Calculate the exponent (-1/2), which is easy for a diagonal.  We can just take each diagonal element and raise it to (-1/2)."
   ]
  },
  {
   "cell_type": "code",
   "execution_count": 50,
   "metadata": {},
   "outputs": [],
   "source": [
    "D = D.tocsr() # Convert to csr because can't use subscripting\n",
    "for i in range(n):\n",
    "    D[i,i] = D[i,i] ** (-1/2) "
   ]
  },
  {
   "cell_type": "markdown",
   "metadata": {},
   "source": [
    "Create the matrix S"
   ]
  },
  {
   "cell_type": "code",
   "execution_count": 51,
   "metadata": {},
   "outputs": [],
   "source": [
    "S = D * M * D"
   ]
  },
  {
   "cell_type": "markdown",
   "metadata": {},
   "source": [
    "mu is just how we weight each piece, smoothness vs fidelity to known labels"
   ]
  },
  {
   "cell_type": "code",
   "execution_count": 52,
   "metadata": {},
   "outputs": [],
   "source": [
    "mu = 0.5\n",
    "alpha = 1/(1 + mu)\n",
    "beta = mu/(1 + mu)"
   ]
  },
  {
   "cell_type": "markdown",
   "metadata": {},
   "source": [
    "Create some labels. "
   ]
  },
  {
   "cell_type": "code",
   "execution_count": 53,
   "metadata": {},
   "outputs": [],
   "source": [
    "Y = np.zeros((n,2))\n",
    "# Set some to be malicious and benign\n",
    "for i in range(int(n/10)):\n",
    "    index = random.randrange(n)\n",
    "    if i % 2 == 0:\n",
    "        Y[index,0] = 1\n",
    "        Y[index,1] = 0\n",
    "    else:\n",
    "        Y[index,0] = 0\n",
    "        Y[index,1] = 1"
   ]
  },
  {
   "cell_type": "markdown",
   "metadata": {},
   "source": [
    "Set F to be Y."
   ]
  },
  {
   "cell_type": "code",
   "execution_count": 54,
   "metadata": {},
   "outputs": [
    {
     "name": "stdout",
     "output_type": "stream",
     "text": [
      "[[0. 0.]\n",
      " [0. 0.]\n",
      " [0. 0.]\n",
      " [0. 0.]\n",
      " [0. 0.]\n",
      " [0. 0.]\n",
      " [0. 0.]\n",
      " [0. 0.]\n",
      " [0. 0.]\n",
      " [0. 0.]\n",
      " [0. 0.]\n",
      " [0. 0.]\n",
      " [0. 0.]\n",
      " [0. 0.]\n",
      " [0. 0.]\n",
      " [0. 0.]\n",
      " [0. 0.]\n",
      " [0. 0.]\n",
      " [0. 0.]\n",
      " [0. 0.]\n",
      " [0. 0.]\n",
      " [0. 0.]\n",
      " [0. 0.]\n",
      " [0. 0.]\n",
      " [1. 0.]\n",
      " [0. 0.]\n",
      " [1. 0.]\n",
      " [0. 0.]\n",
      " [0. 0.]\n",
      " [0. 0.]\n",
      " [1. 0.]\n",
      " [0. 0.]\n",
      " [0. 0.]\n",
      " [0. 0.]\n",
      " [0. 0.]\n",
      " [0. 0.]\n",
      " [0. 0.]\n",
      " [0. 0.]\n",
      " [0. 0.]\n",
      " [0. 0.]\n",
      " [0. 0.]\n",
      " [0. 0.]\n",
      " [0. 1.]\n",
      " [0. 0.]\n",
      " [0. 0.]\n",
      " [0. 0.]\n",
      " [0. 0.]\n",
      " [0. 0.]\n",
      " [0. 0.]\n",
      " [0. 1.]\n",
      " [0. 0.]\n",
      " [0. 0.]\n",
      " [0. 0.]\n",
      " [0. 0.]\n",
      " [0. 0.]\n",
      " [0. 0.]\n",
      " [0. 0.]\n",
      " [0. 0.]\n",
      " [0. 0.]\n",
      " [0. 0.]\n",
      " [0. 0.]\n",
      " [0. 0.]\n",
      " [0. 0.]\n",
      " [0. 0.]\n",
      " [0. 0.]\n",
      " [0. 0.]\n",
      " [0. 0.]\n",
      " [1. 0.]\n",
      " [0. 1.]\n",
      " [0. 0.]\n",
      " [0. 0.]\n",
      " [0. 0.]\n",
      " [0. 0.]\n",
      " [0. 0.]\n",
      " [0. 0.]\n",
      " [0. 0.]\n",
      " [0. 0.]\n",
      " [0. 1.]\n",
      " [0. 0.]\n",
      " [0. 0.]\n",
      " [0. 0.]\n",
      " [0. 0.]\n",
      " [0. 0.]\n",
      " [0. 0.]\n",
      " [0. 0.]\n",
      " [1. 0.]\n",
      " [0. 0.]\n",
      " [0. 0.]\n",
      " [0. 0.]\n",
      " [0. 0.]\n",
      " [0. 0.]\n",
      " [0. 0.]\n",
      " [0. 0.]\n",
      " [0. 0.]\n",
      " [0. 0.]\n",
      " [0. 0.]\n",
      " [0. 0.]\n",
      " [0. 0.]\n",
      " [0. 1.]\n",
      " [0. 0.]]\n"
     ]
    }
   ],
   "source": [
    "F = Y\n",
    "print(F)"
   ]
  },
  {
   "cell_type": "markdown",
   "metadata": {},
   "source": [
    "Do one iteration"
   ]
  },
  {
   "cell_type": "code",
   "execution_count": 55,
   "metadata": {},
   "outputs": [
    {
     "name": "stdout",
     "output_type": "stream",
     "text": [
      "[[0.03279323 0.04214085]\n",
      " [0.03530374 0.0401057 ]\n",
      " [0.03001225 0.02960493]\n",
      " [0.02658198 0.02888225]\n",
      " [0.02903081 0.03233552]\n",
      " [0.03352022 0.03766214]\n",
      " [0.03252847 0.0370791 ]\n",
      " [0.03426363 0.03545973]\n",
      " [0.02938819 0.03269118]\n",
      " [0.03022702 0.03272619]\n",
      " [0.02479133 0.02502719]\n",
      " [0.02772989 0.0317721 ]\n",
      " [0.03468009 0.03892743]\n",
      " [0.0289314  0.0291541 ]\n",
      " [0.02884585 0.03098009]\n",
      " [0.03461008 0.03501924]\n",
      " [0.02974642 0.03084751]\n",
      " [0.02256764 0.02437958]\n",
      " [0.03398196 0.03198979]\n",
      " [0.03219891 0.03340883]\n",
      " [0.02835941 0.03030526]\n",
      " [0.03069409 0.03350738]\n",
      " [0.04041481 0.03408019]\n",
      " [0.0274529  0.03205934]\n",
      " [0.35199174 0.02520193]\n",
      " [0.02866116 0.03091169]\n",
      " [0.35823147 0.03027133]\n",
      " [0.03336012 0.03512675]\n",
      " [0.03328917 0.03764202]\n",
      " [0.0297834  0.03336051]\n",
      " [0.36015311 0.02970424]\n",
      " [0.01950008 0.01947553]\n",
      " [0.02963444 0.03197736]\n",
      " [0.0281661  0.0300264 ]\n",
      " [0.03116287 0.03408665]\n",
      " [0.02743225 0.02941426]\n",
      " [0.03026809 0.03281845]\n",
      " [0.02655485 0.02856489]\n",
      " [0.03177584 0.03451249]\n",
      " [0.03277161 0.03681554]\n",
      " [0.03293053 0.03668962]\n",
      " [0.03231482 0.03240733]\n",
      " [0.02572778 0.35479759]\n",
      " [0.0338698  0.03806479]\n",
      " [0.0300896  0.03089722]\n",
      " [0.03108293 0.03500843]\n",
      " [0.03313844 0.03638444]\n",
      " [0.02907762 0.03837898]\n",
      " [0.02970977 0.03116206]\n",
      " [0.03240393 0.36042574]\n",
      " [0.02894134 0.03110801]\n",
      " [0.03702671 0.03940607]\n",
      " [0.02661164 0.02853559]\n",
      " [0.03287255 0.03652885]\n",
      " [0.03024609 0.03504429]\n",
      " [0.03200671 0.03354196]\n",
      " [0.0241665  0.02331856]\n",
      " [0.02676393 0.02667924]\n",
      " [0.02696994 0.02862791]\n",
      " [0.02530215 0.0259675 ]\n",
      " [0.03259978 0.03771597]\n",
      " [0.02979314 0.02965608]\n",
      " [0.03377745 0.03795826]\n",
      " [0.03385994 0.038637  ]\n",
      " [0.0296873  0.0323052 ]\n",
      " [0.03125939 0.03339554]\n",
      " [0.03496069 0.04225981]\n",
      " [0.35774087 0.03431913]\n",
      " [0.03426402 0.36074779]\n",
      " [0.0276052  0.02812221]\n",
      " [0.0309942  0.03509036]\n",
      " [0.02953143 0.03123093]\n",
      " [0.03272681 0.03487222]\n",
      " [0.03005514 0.03123544]\n",
      " [0.02648578 0.02695846]\n",
      " [0.02809181 0.03050613]\n",
      " [0.02569546 0.02885379]\n",
      " [0.03055392 0.36150929]\n",
      " [0.02914595 0.03128603]\n",
      " [0.02931244 0.02785931]\n",
      " [0.02573019 0.02812396]\n",
      " [0.02771662 0.02995923]\n",
      " [0.02507577 0.0277904 ]\n",
      " [0.03389844 0.03285613]\n",
      " [0.02637485 0.02787552]\n",
      " [0.35882902 0.03021508]\n",
      " [0.03382366 0.03391994]\n",
      " [0.03499458 0.04278639]\n",
      " [0.02534956 0.02658861]\n",
      " [0.0266372  0.02725177]\n",
      " [0.03270429 0.03350852]\n",
      " [0.02272259 0.02190435]\n",
      " [0.03199452 0.03252785]\n",
      " [0.02866447 0.03067462]\n",
      " [0.03061126 0.03382493]\n",
      " [0.0362197  0.03921638]\n",
      " [0.03221302 0.03561815]\n",
      " [0.0290826  0.03202583]\n",
      " [0.02676206 0.35570089]\n",
      " [0.0313415  0.03584974]]\n"
     ]
    }
   ],
   "source": [
    "F = alpha * S.dot(F) + beta * Y\n",
    "print(F)"
   ]
  },
  {
   "cell_type": "code",
   "execution_count": 56,
   "metadata": {},
   "outputs": [
    {
     "name": "stdout",
     "output_type": "stream",
     "text": [
      "[[0.03356588 0.03836037]\n",
      " [0.03674686 0.04023443]\n",
      " [0.0287061  0.0299738 ]\n",
      " [0.02666772 0.02875631]\n",
      " [0.02885671 0.03138589]\n",
      " [0.03496911 0.03813806]\n",
      " [0.03211163 0.03521569]\n",
      " [0.03363772 0.03570972]\n",
      " [0.02965683 0.03224355]\n",
      " [0.03055308 0.03292165]\n",
      " [0.02456115 0.02584642]\n",
      " [0.02837579 0.03114527]\n",
      " [0.03592283 0.03917608]\n",
      " [0.02840968 0.02989552]\n",
      " [0.02952351 0.03171736]\n",
      " [0.03189601 0.03356563]\n",
      " [0.02940074 0.03122527]\n",
      " [0.02232039 0.02401968]\n",
      " [0.03122794 0.03206578]\n",
      " [0.03024414 0.03211467]\n",
      " [0.02888487 0.03098044]\n",
      " [0.03016075 0.03258503]\n",
      " [0.03441442 0.03390123]\n",
      " [0.02752374 0.03042162]\n",
      " [0.35442824 0.02435757]\n",
      " [0.02871903 0.03090021]\n",
      " [0.3593691  0.02913966]\n",
      " [0.03324658 0.03550407]\n",
      " [0.03404835 0.03722015]\n",
      " [0.02882221 0.03141782]\n",
      " [0.35947463 0.02837149]\n",
      " [0.01924021 0.02016985]\n",
      " [0.03011126 0.03240521]\n",
      " [0.02823934 0.03027398]\n",
      " [0.03197743 0.03457547]\n",
      " [0.02607648 0.02799856]\n",
      " [0.03079991 0.03320382]\n",
      " [0.02585926 0.02779587]\n",
      " [0.03249593 0.03505561]\n",
      " [0.03381437 0.03688468]\n",
      " [0.03408718 0.03707849]\n",
      " [0.03132303 0.03289623]\n",
      " [0.02493444 0.35808318]\n",
      " [0.03487154 0.0380452 ]\n",
      " [0.02966292 0.03140027]\n",
      " [0.03201863 0.03494162]\n",
      " [0.03128897 0.03387886]\n",
      " [0.0291351  0.03365971]\n",
      " [0.02952408 0.03147946]\n",
      " [0.03321964 0.36651269]\n",
      " [0.02964143 0.03185934]\n",
      " [0.03416566 0.03658193]\n",
      " [0.02704505 0.02903771]\n",
      " [0.03374719 0.03667215]\n",
      " [0.03081077 0.03396185]\n",
      " [0.03169127 0.0337843 ]\n",
      " [0.0229347  0.02376337]\n",
      " [0.02608151 0.02733534]\n",
      " [0.02771566 0.02966575]\n",
      " [0.02475869 0.02619472]\n",
      " [0.03383194 0.03725987]\n",
      " [0.0285049  0.02984818]\n",
      " [0.03489676 0.03806918]\n",
      " [0.0343041  0.0376253 ]\n",
      " [0.03061858 0.03303781]\n",
      " [0.03183716 0.03415029]\n",
      " [0.03681463 0.04113483]\n",
      " [0.3631825  0.03474898]\n",
      " [0.03406111 0.36684908]\n",
      " [0.02693202 0.02842145]\n",
      " [0.03007901 0.03290945]\n",
      " [0.02890066 0.03088719]\n",
      " [0.03332772 0.03573028]\n",
      " [0.02984813 0.03172738]\n",
      " [0.02630906 0.02776416]\n",
      " [0.02868425 0.03092668]\n",
      " [0.02575842 0.02809235]\n",
      " [0.03040545 0.36447534]\n",
      " [0.02931758 0.03149229]\n",
      " [0.02747762 0.02831885]\n",
      " [0.02449228 0.02647574]\n",
      " [0.02823569 0.03040286]\n",
      " [0.02530147 0.02746419]\n",
      " [0.03113185 0.03228025]\n",
      " [0.02682123 0.02866425]\n",
      " [0.36048925 0.03009358]\n",
      " [0.03272109 0.03436889]\n",
      " [0.03674293 0.04121834]\n",
      " [0.02537646 0.02704788]\n",
      " [0.02645921 0.02796755]\n",
      " [0.03200372 0.03386153]\n",
      " [0.02077465 0.02148311]\n",
      " [0.03065609 0.03232885]\n",
      " [0.02886278 0.03097848]\n",
      " [0.03109728 0.03373527]\n",
      " [0.03690542 0.03978383]\n",
      " [0.03327412 0.03609558]\n",
      " [0.02928143 0.03172358]\n",
      " [0.02409065 0.35710078]\n",
      " [0.03205351 0.03517374]]\n"
     ]
    }
   ],
   "source": [
    "for i in range(10000):\n",
    "  F = alpha * S.dot(F) + beta * Y\n",
    "  \n",
    "print(F)"
   ]
  },
  {
   "cell_type": "code",
   "execution_count": null,
   "metadata": {},
   "outputs": [],
   "source": []
  }
 ],
 "metadata": {
  "kernelspec": {
   "display_name": "Python 3",
   "language": "python",
   "name": "python3"
  },
  "language_info": {
   "codemirror_mode": {
    "name": "ipython",
    "version": 3
   },
   "file_extension": ".py",
   "mimetype": "text/x-python",
   "name": "python",
   "nbconvert_exporter": "python",
   "pygments_lexer": "ipython3",
   "version": "3.8.7"
  }
 },
 "nbformat": 4,
 "nbformat_minor": 4
}
