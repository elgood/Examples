{
 "cells": [
  {
   "cell_type": "code",
   "execution_count": 57,
   "metadata": {},
   "outputs": [],
   "source": [
    "import numpy as np\n",
    "from scipy.sparse import (csr_matrix, csr_matrix, coo_matrix,\n",
    "                bsr_matrix, dia_matrix, dok_matrix, lil_matrix)\n",
    "from numpy.random import rand\n",
    "from time import time\n",
    "import random\n",
    "\n",
    "n = 10000 # dimension of matrix"
   ]
  },
  {
   "cell_type": "markdown",
   "metadata": {},
   "source": [
    "# List of Lists format (lil_matrix)"
   ]
  },
  {
   "cell_type": "markdown",
   "metadata": {},
   "source": [
    "Create a list of list matrix that is of size n x n.  We will fill that one with random values.  Also create lil matrix that is identity."
   ]
  },
  {
   "cell_type": "code",
   "execution_count": 33,
   "metadata": {},
   "outputs": [],
   "source": [
    "lil1 = lil_matrix((n,n))\n",
    "lilIdentity = lil_matrix((n,n))"
   ]
  },
  {
   "cell_type": "markdown",
   "metadata": {},
   "source": [
    "Fill the first one hundred values of the zeroth row with random numbers over the distribution [0, 1).  Then fill the diagonal also with random numbers."
   ]
  },
  {
   "cell_type": "code",
   "execution_count": 34,
   "metadata": {},
   "outputs": [],
   "source": [
    "lil1[0, :100] = rand(100)\n",
    "lil1.setdiag(rand(n))\n"
   ]
  },
  {
   "cell_type": "markdown",
   "metadata": {},
   "source": [
    "Fill in the identity matrix."
   ]
  },
  {
   "cell_type": "code",
   "execution_count": 35,
   "metadata": {},
   "outputs": [],
   "source": [
    "for i in range(n):\n",
    "    lilIdentity[i,i] = 1"
   ]
  },
  {
   "cell_type": "markdown",
   "metadata": {},
   "source": [
    "See how long it takes to multiply a lil matrix with another lil matrix."
   ]
  },
  {
   "cell_type": "code",
   "execution_count": 36,
   "metadata": {},
   "outputs": [
    {
     "name": "stdout",
     "output_type": "stream",
     "text": [
      "Time(s) for lil multiply: 0.004474163055419922\n"
     ]
    }
   ],
   "source": [
    "time1 = time()\n",
    "lil1 = lil1*lilIdentity\n",
    "print(\"Time(s) for lil multiply: \" + str(time() - time1))"
   ]
  },
  {
   "cell_type": "markdown",
   "metadata": {},
   "source": [
    "Convert them to dense matrices and see how long the multiply takes."
   ]
  },
  {
   "cell_type": "code",
   "execution_count": 37,
   "metadata": {},
   "outputs": [
    {
     "name": "stdout",
     "output_type": "stream",
     "text": [
      "Time(s) for dense multiple: 1.6002421379089355\n"
     ]
    }
   ],
   "source": [
    "dense1 = lil1.toarray()\n",
    "denseIdentity = lilIdentity.toarray()\n",
    "time1 = time()\n",
    "dense1 = dense1 * denseIdentity\n",
    "print(\"Time(s) for dense multiple: \" + str(time() - time1))"
   ]
  },
  {
   "cell_type": "markdown",
   "metadata": {},
   "source": [
    "Now how does adding matrices compare?"
   ]
  },
  {
   "cell_type": "code",
   "execution_count": 38,
   "metadata": {},
   "outputs": [
    {
     "name": "stdout",
     "output_type": "stream",
     "text": [
      "Time(s) for lil add: 0.0006101131439208984\n"
     ]
    }
   ],
   "source": [
    "lil2 = lil1\n",
    "time1 = time()\n",
    "lil2 = lil2 + lil2\n",
    "print(\"Time(s) for lil add: \" + str(time() - time1))"
   ]
  },
  {
   "cell_type": "code",
   "execution_count": 39,
   "metadata": {},
   "outputs": [
    {
     "name": "stdout",
     "output_type": "stream",
     "text": [
      "Time(s) for dense add: 0.6401793956756592\n"
     ]
    }
   ],
   "source": [
    "dense1 = lil1.toarray()\n",
    "denseIdentity = lilIdentity.toarray()\n",
    "time1 = time()\n",
    "dense1 = dense1 + dense1\n",
    "print(\"Time(s) for dense add: \" + str(time() - time1))"
   ]
  },
  {
   "cell_type": "markdown",
   "metadata": {},
   "source": [
    "What happens when a lil matrix has many values?"
   ]
  },
  {
   "cell_type": "code",
   "execution_count": 40,
   "metadata": {},
   "outputs": [
    {
     "name": "stdout",
     "output_type": "stream",
     "text": [
      "Fraction nonzero: 0.09516356\n",
      "Time for lil multiply: 28.344743967056274\n",
      "Time for dense multiply: 0.449354887008667\n"
     ]
    }
   ],
   "source": [
    "lilManyValues = lil_matrix((n,n))\n",
    "numValues = int(n*n / 10)\n",
    "for iter in range(numValues):\n",
    "    i = random.randrange(n)\n",
    "    j = random.randrange(n)\n",
    "    lilManyValues[i,j] = 1\n",
    "print(\"Fraction nonzero: \" + str(lilManyValues.count_nonzero() / (n*n)))\n",
    "    \n",
    "time1 = time()\n",
    "lilManyValues = lilManyValues * lilManyValues\n",
    "print(\"Time for lil multiply: \" + str(time() - time1))\n",
    "\n",
    "denseManyValues = lilManyValues.toarray()\n",
    "time1 = time()\n",
    "denseManyValues = denseManyValues * denseManyValues\n",
    "print(\"Time for dense multiply: \" + str(time() - time1))"
   ]
  },
  {
   "cell_type": "markdown",
   "metadata": {},
   "source": [
    "# Compressed Sparse Row (csr_matrix) and Compressed Sparse Column (csc_matrix)"
   ]
  },
  {
   "cell_type": "code",
   "execution_count": 41,
   "metadata": {},
   "outputs": [],
   "source": [
    "csr1 = lil1.tocsr()\n",
    "csc1 = lil1.tocsc()\n",
    "csrIdentity = lilIdentity.tocsr()\n",
    "cscIdentity = lilIdentity.tocsc()"
   ]
  },
  {
   "cell_type": "code",
   "execution_count": 42,
   "metadata": {},
   "outputs": [
    {
     "name": "stdout",
     "output_type": "stream",
     "text": [
      "Time(s) for csr multiply: 0.0008141994476318359\n"
     ]
    }
   ],
   "source": [
    "time1 = time()\n",
    "csr1 = csr1*csr1\n",
    "print(\"Time(s) for csr multiply: \" + str(time() - time1))"
   ]
  },
  {
   "cell_type": "code",
   "execution_count": 43,
   "metadata": {},
   "outputs": [
    {
     "name": "stdout",
     "output_type": "stream",
     "text": [
      "Time(s) for csr add: 0.0004820823669433594\n"
     ]
    }
   ],
   "source": [
    "csr2 = csr1\n",
    "time1 = time()\n",
    "csr2 = csr2 + csr2\n",
    "print(\"Time(s) for csr add: \" + str(time() - time1))"
   ]
  },
  {
   "cell_type": "code",
   "execution_count": 44,
   "metadata": {},
   "outputs": [
    {
     "name": "stdout",
     "output_type": "stream",
     "text": [
      "Time(s) for accessing rows: 0.869877815246582\n",
      "Time(s) for accessing columns: 2.2714409828186035\n"
     ]
    }
   ],
   "source": [
    "iters = 10000\n",
    "time1 = time()\n",
    "for i in range(iters):\n",
    "    index = random.randrange(n)\n",
    "    row = csr1[index,:]\n",
    "    nnz = row.count_nonzero()\n",
    "print(\"Time(s) for accessing rows: \" + str(time() - time1))\n",
    "for i in range(iters):\n",
    "    index = random.randrange(n)\n",
    "    row = csr1[:,index]\n",
    "    nnz = row.count_nonzero()\n",
    "print(\"Time(s) for accessing columns: \" + str(time() - time1))\n"
   ]
  },
  {
   "cell_type": "code",
   "execution_count": 45,
   "metadata": {},
   "outputs": [
    {
     "name": "stdout",
     "output_type": "stream",
     "text": [
      "Time(s) for accessing rows: 1.4538440704345703\n",
      "Time(s) for accessing columns: 2.289771795272827\n"
     ]
    }
   ],
   "source": [
    "iters = 10000\n",
    "time1 = time()\n",
    "for i in range(iters):\n",
    "    index = random.randrange(n)\n",
    "    row = csc1[index,:]\n",
    "    nnz = row.count_nonzero()\n",
    "print(\"Time(s) for accessing rows: \" + str(time() - time1))\n",
    "for i in range(iters):\n",
    "    index = random.randrange(n)\n",
    "    row = csc1[:,index]\n",
    "    nnz = row.count_nonzero()\n",
    "print(\"Time(s) for accessing columns: \" + str(time() - time1))"
   ]
  },
  {
   "cell_type": "markdown",
   "metadata": {},
   "source": [
    "# Hindom Optimization Equation "
   ]
  },
  {
   "cell_type": "markdown",
   "metadata": {},
   "source": [
    "F(t+1)=(1/(1+mu)) D^(-1/2) M' D^(-1/2) F(t) + (mu/(1+mu)) Y"
   ]
  },
  {
   "cell_type": "markdown",
   "metadata": {},
   "source": [
    "Create something that looks like M' of Hindom."
   ]
  },
  {
   "cell_type": "code",
   "execution_count": 58,
   "metadata": {},
   "outputs": [
    {
     "name": "stdout",
     "output_type": "stream",
     "text": [
      "Fraction nonzero: 0.049\n"
     ]
    }
   ],
   "source": [
    "n = 100 \n",
    "M = lil_matrix((n,n))\n",
    "numValues = 500\n",
    "for iter in range(numValues):\n",
    "    i = random.randrange(n)\n",
    "    j = random.randrange(n)\n",
    "    M[i,j] = random.random() # [0,1)\n",
    "print(\"Fraction nonzero: \" + str(M.count_nonzero() / (n*n)))\n",
    "M = M.tocsr()"
   ]
  },
  {
   "cell_type": "markdown",
   "metadata": {},
   "source": [
    "Actually have to create an affinity matrix."
   ]
  },
  {
   "cell_type": "code",
   "execution_count": 59,
   "metadata": {},
   "outputs": [
    {
     "name": "stdout",
     "output_type": "stream",
     "text": [
      "(100, 100)\n"
     ]
    }
   ],
   "source": [
    "import math\n",
    "W = M.toarray()\n",
    "for i in range(n):\n",
    "    for j in range(n):\n",
    "        if i == j:\n",
    "            W[i,j] = 0\n",
    "        else:\n",
    "            normed = np.linalg.norm(M[i,:].toarray() - M[j,:].toarray(), ord=2)\n",
    "            W[i,j] = math.exp(-pow(normed,2))\n",
    "M = W\n",
    "print(M.shape)"
   ]
  },
  {
   "cell_type": "markdown",
   "metadata": {},
   "source": [
    "Create diagonal matrix D"
   ]
  },
  {
   "cell_type": "code",
   "execution_count": 60,
   "metadata": {},
   "outputs": [],
   "source": [
    "data = np.squeeze(np.asarray(M.sum(axis=1))) # sum the rows\n",
    "offsets = np.array([0])\n",
    "D = dia_matrix((data, offsets), shape=(n,n))"
   ]
  },
  {
   "cell_type": "markdown",
   "metadata": {},
   "source": [
    "Calculate the exponent (-1/2), which is easy for a diagonal.  We can just take each diagonal element and raise it to (-1/2)."
   ]
  },
  {
   "cell_type": "code",
   "execution_count": 61,
   "metadata": {},
   "outputs": [],
   "source": [
    "D = D.tocsr() # Convert to csr because can't use subscripting\n",
    "for i in range(n):\n",
    "    D[i,i] = D[i,i] ** (-1/2) "
   ]
  },
  {
   "cell_type": "markdown",
   "metadata": {},
   "source": [
    "Create the matrix S"
   ]
  },
  {
   "cell_type": "code",
   "execution_count": 62,
   "metadata": {},
   "outputs": [],
   "source": [
    "S = D * M * D"
   ]
  },
  {
   "cell_type": "markdown",
   "metadata": {},
   "source": [
    "mu is just how we weight each piece, smoothness vs fidelity to known labels"
   ]
  },
  {
   "cell_type": "code",
   "execution_count": 71,
   "metadata": {},
   "outputs": [],
   "source": [
    "mu = 0.95\n",
    "alpha = 1/(1 + mu)\n",
    "beta = mu/(1 + mu)"
   ]
  },
  {
   "cell_type": "markdown",
   "metadata": {},
   "source": [
    "Create some labels. "
   ]
  },
  {
   "cell_type": "code",
   "execution_count": 72,
   "metadata": {},
   "outputs": [],
   "source": [
    "Y = np.zeros((n,2))\n",
    "# Set some to be malicious and benign\n",
    "for i in range(int(n/10)):\n",
    "    index = random.randrange(n)\n",
    "    if i % 2 == 0:\n",
    "        Y[index,0] = 1\n",
    "        Y[index,1] = 0\n",
    "    else:\n",
    "        Y[index,0] = 0\n",
    "        Y[index,1] = 1"
   ]
  },
  {
   "cell_type": "markdown",
   "metadata": {},
   "source": [
    "Set F to be Y."
   ]
  },
  {
   "cell_type": "code",
   "execution_count": 73,
   "metadata": {},
   "outputs": [
    {
     "name": "stdout",
     "output_type": "stream",
     "text": [
      "[[0. 0.]\n",
      " [0. 0.]\n",
      " [0. 0.]\n",
      " [0. 0.]\n",
      " [0. 0.]\n",
      " [0. 0.]\n",
      " [0. 0.]\n",
      " [0. 0.]\n",
      " [0. 0.]\n",
      " [0. 1.]\n",
      " [0. 0.]\n",
      " [0. 1.]\n",
      " [0. 0.]\n",
      " [0. 1.]\n",
      " [0. 0.]\n",
      " [0. 0.]\n",
      " [0. 0.]\n",
      " [0. 0.]\n",
      " [0. 0.]\n",
      " [1. 0.]\n",
      " [0. 0.]\n",
      " [1. 0.]\n",
      " [0. 0.]\n",
      " [0. 0.]\n",
      " [0. 0.]\n",
      " [0. 0.]\n",
      " [0. 0.]\n",
      " [0. 0.]\n",
      " [0. 0.]\n",
      " [0. 0.]\n",
      " [0. 0.]\n",
      " [0. 1.]\n",
      " [0. 0.]\n",
      " [0. 0.]\n",
      " [0. 0.]\n",
      " [0. 0.]\n",
      " [0. 0.]\n",
      " [1. 0.]\n",
      " [0. 0.]\n",
      " [0. 0.]\n",
      " [0. 0.]\n",
      " [0. 0.]\n",
      " [0. 0.]\n",
      " [0. 0.]\n",
      " [0. 0.]\n",
      " [0. 0.]\n",
      " [0. 0.]\n",
      " [0. 0.]\n",
      " [0. 0.]\n",
      " [0. 0.]\n",
      " [0. 0.]\n",
      " [0. 0.]\n",
      " [0. 0.]\n",
      " [0. 1.]\n",
      " [0. 0.]\n",
      " [0. 0.]\n",
      " [0. 0.]\n",
      " [0. 0.]\n",
      " [0. 0.]\n",
      " [0. 0.]\n",
      " [0. 0.]\n",
      " [0. 0.]\n",
      " [0. 0.]\n",
      " [0. 0.]\n",
      " [0. 0.]\n",
      " [0. 0.]\n",
      " [0. 0.]\n",
      " [0. 0.]\n",
      " [0. 0.]\n",
      " [0. 0.]\n",
      " [0. 0.]\n",
      " [0. 0.]\n",
      " [0. 0.]\n",
      " [0. 0.]\n",
      " [0. 0.]\n",
      " [0. 0.]\n",
      " [0. 0.]\n",
      " [0. 0.]\n",
      " [1. 0.]\n",
      " [0. 0.]\n",
      " [0. 0.]\n",
      " [0. 0.]\n",
      " [0. 0.]\n",
      " [0. 0.]\n",
      " [0. 0.]\n",
      " [0. 0.]\n",
      " [0. 0.]\n",
      " [1. 0.]\n",
      " [0. 0.]\n",
      " [0. 0.]\n",
      " [0. 0.]\n",
      " [0. 0.]\n",
      " [0. 0.]\n",
      " [0. 0.]\n",
      " [0. 0.]\n",
      " [0. 0.]\n",
      " [0. 0.]\n",
      " [0. 0.]\n",
      " [0. 0.]\n",
      " [0. 0.]]\n"
     ]
    }
   ],
   "source": [
    "F = Y\n",
    "print(F)"
   ]
  },
  {
   "cell_type": "markdown",
   "metadata": {},
   "source": [
    "Do one iteration"
   ]
  },
  {
   "cell_type": "code",
   "execution_count": 74,
   "metadata": {},
   "outputs": [
    {
     "name": "stdout",
     "output_type": "stream",
     "text": [
      "[[0.01819293 0.01902999]\n",
      " [0.03733626 0.03545096]\n",
      " [0.03258367 0.03093835]\n",
      " [0.01099644 0.01766843]\n",
      " [0.03199469 0.04121595]\n",
      " [0.01773392 0.01627416]\n",
      " [0.03777996 0.0366425 ]\n",
      " [0.01121374 0.00950491]\n",
      " [0.04643648 0.03420793]\n",
      " [0.02383316 0.50692371]\n",
      " [0.03820814 0.03646696]\n",
      " [0.03733517 0.51644383]\n",
      " [0.02775491 0.02671696]\n",
      " [0.02222738 0.50721453]\n",
      " [0.02790699 0.0349064 ]\n",
      " [0.03110697 0.02472131]\n",
      " [0.02907564 0.02760746]\n",
      " [0.03018273 0.03833527]\n",
      " [0.02598526 0.02829244]\n",
      " [0.52203061 0.04913848]\n",
      " [0.01843969 0.01810665]\n",
      " [0.49929841 0.01095624]\n",
      " [0.04150207 0.03383761]\n",
      " [0.02276042 0.02158016]\n",
      " [0.03361183 0.03671754]\n",
      " [0.04207525 0.03995065]\n",
      " [0.03513928 0.02511682]\n",
      " [0.03302272 0.02933316]\n",
      " [0.01128493 0.01264144]\n",
      " [0.02185723 0.0262848 ]\n",
      " [0.03813498 0.0371606 ]\n",
      " [0.0485999  0.51876266]\n",
      " [0.01288624 0.0120815 ]\n",
      " [0.0385383  0.03828856]\n",
      " [0.03579398 0.03244376]\n",
      " [0.02374663 0.03706696]\n",
      " [0.04688025 0.04451303]\n",
      " [0.51826587 0.03226659]\n",
      " [0.01020081 0.01123615]\n",
      " [0.02348981 0.02230368]\n",
      " [0.02305768 0.02189338]\n",
      " [0.0135853  0.02372399]\n",
      " [0.00993707 0.0140875 ]\n",
      " [0.0242057  0.02298343]\n",
      " [0.03649982 0.03465676]\n",
      " [0.03104469 0.02945421]\n",
      " [0.03328217 0.02811347]\n",
      " [0.01242195 0.01152145]\n",
      " [0.02695595 0.02506897]\n",
      " [0.01786149 0.01842219]\n",
      " [0.03441403 0.03671515]\n",
      " [0.02141812 0.02005297]\n",
      " [0.0123885  0.01136345]\n",
      " [0.02466588 0.50569095]\n",
      " [0.01422879 0.01447334]\n",
      " [0.02887301 0.02369389]\n",
      " [0.05040916 0.05269958]\n",
      " [0.03529795 0.03444632]\n",
      " [0.01655962 0.01279377]\n",
      " [0.03502976 0.0266766 ]\n",
      " [0.03244566 0.03463333]\n",
      " [0.02207221 0.02272421]\n",
      " [0.01648298 0.01395397]\n",
      " [0.02939511 0.02249206]\n",
      " [0.02190441 0.02067974]\n",
      " [0.02573331 0.0244339 ]\n",
      " [0.00580958 0.00269439]\n",
      " [0.00849771 0.00801394]\n",
      " [0.04075203 0.05389391]\n",
      " [0.00890463 0.01515818]\n",
      " [0.02120745 0.0247561 ]\n",
      " [0.02069117 0.01964637]\n",
      " [0.01453732 0.00893179]\n",
      " [0.02304386 0.01970747]\n",
      " [0.04342196 0.04359763]\n",
      " [0.0270537  0.03303218]\n",
      " [0.0200509  0.01729216]\n",
      " [0.02086069 0.03008424]\n",
      " [0.52159881 0.04381935]\n",
      " [0.01682834 0.02607981]\n",
      " [0.0237383  0.02289219]\n",
      " [0.02346625 0.02545099]\n",
      " [0.0334889  0.03261698]\n",
      " [0.03020054 0.02867556]\n",
      " [0.01561608 0.01700991]\n",
      " [0.01900598 0.01804627]\n",
      " [0.01315932 0.00973532]\n",
      " [0.508803   0.02048084]\n",
      " [0.04365411 0.04877958]\n",
      " [0.00877497 0.01189957]\n",
      " [0.01367865 0.02062645]\n",
      " [0.00754831 0.01114853]\n",
      " [0.02895152 0.02916237]\n",
      " [0.01849347 0.01650126]\n",
      " [0.05382996 0.05111181]\n",
      " [0.05004446 0.04751746]\n",
      " [0.03346926 0.03614463]\n",
      " [0.02483748 0.0322799 ]\n",
      " [0.02765996 0.02619313]\n",
      " [0.0519011  0.04937436]]\n"
     ]
    }
   ],
   "source": [
    "F = alpha * S.dot(F) + beta * Y\n",
    "print(F)"
   ]
  },
  {
   "cell_type": "code",
   "execution_count": 56,
   "metadata": {},
   "outputs": [
    {
     "name": "stdout",
     "output_type": "stream",
     "text": [
      "[[0.03356588 0.03836037]\n",
      " [0.03674686 0.04023443]\n",
      " [0.0287061  0.0299738 ]\n",
      " [0.02666772 0.02875631]\n",
      " [0.02885671 0.03138589]\n",
      " [0.03496911 0.03813806]\n",
      " [0.03211163 0.03521569]\n",
      " [0.03363772 0.03570972]\n",
      " [0.02965683 0.03224355]\n",
      " [0.03055308 0.03292165]\n",
      " [0.02456115 0.02584642]\n",
      " [0.02837579 0.03114527]\n",
      " [0.03592283 0.03917608]\n",
      " [0.02840968 0.02989552]\n",
      " [0.02952351 0.03171736]\n",
      " [0.03189601 0.03356563]\n",
      " [0.02940074 0.03122527]\n",
      " [0.02232039 0.02401968]\n",
      " [0.03122794 0.03206578]\n",
      " [0.03024414 0.03211467]\n",
      " [0.02888487 0.03098044]\n",
      " [0.03016075 0.03258503]\n",
      " [0.03441442 0.03390123]\n",
      " [0.02752374 0.03042162]\n",
      " [0.35442824 0.02435757]\n",
      " [0.02871903 0.03090021]\n",
      " [0.3593691  0.02913966]\n",
      " [0.03324658 0.03550407]\n",
      " [0.03404835 0.03722015]\n",
      " [0.02882221 0.03141782]\n",
      " [0.35947463 0.02837149]\n",
      " [0.01924021 0.02016985]\n",
      " [0.03011126 0.03240521]\n",
      " [0.02823934 0.03027398]\n",
      " [0.03197743 0.03457547]\n",
      " [0.02607648 0.02799856]\n",
      " [0.03079991 0.03320382]\n",
      " [0.02585926 0.02779587]\n",
      " [0.03249593 0.03505561]\n",
      " [0.03381437 0.03688468]\n",
      " [0.03408718 0.03707849]\n",
      " [0.03132303 0.03289623]\n",
      " [0.02493444 0.35808318]\n",
      " [0.03487154 0.0380452 ]\n",
      " [0.02966292 0.03140027]\n",
      " [0.03201863 0.03494162]\n",
      " [0.03128897 0.03387886]\n",
      " [0.0291351  0.03365971]\n",
      " [0.02952408 0.03147946]\n",
      " [0.03321964 0.36651269]\n",
      " [0.02964143 0.03185934]\n",
      " [0.03416566 0.03658193]\n",
      " [0.02704505 0.02903771]\n",
      " [0.03374719 0.03667215]\n",
      " [0.03081077 0.03396185]\n",
      " [0.03169127 0.0337843 ]\n",
      " [0.0229347  0.02376337]\n",
      " [0.02608151 0.02733534]\n",
      " [0.02771566 0.02966575]\n",
      " [0.02475869 0.02619472]\n",
      " [0.03383194 0.03725987]\n",
      " [0.0285049  0.02984818]\n",
      " [0.03489676 0.03806918]\n",
      " [0.0343041  0.0376253 ]\n",
      " [0.03061858 0.03303781]\n",
      " [0.03183716 0.03415029]\n",
      " [0.03681463 0.04113483]\n",
      " [0.3631825  0.03474898]\n",
      " [0.03406111 0.36684908]\n",
      " [0.02693202 0.02842145]\n",
      " [0.03007901 0.03290945]\n",
      " [0.02890066 0.03088719]\n",
      " [0.03332772 0.03573028]\n",
      " [0.02984813 0.03172738]\n",
      " [0.02630906 0.02776416]\n",
      " [0.02868425 0.03092668]\n",
      " [0.02575842 0.02809235]\n",
      " [0.03040545 0.36447534]\n",
      " [0.02931758 0.03149229]\n",
      " [0.02747762 0.02831885]\n",
      " [0.02449228 0.02647574]\n",
      " [0.02823569 0.03040286]\n",
      " [0.02530147 0.02746419]\n",
      " [0.03113185 0.03228025]\n",
      " [0.02682123 0.02866425]\n",
      " [0.36048925 0.03009358]\n",
      " [0.03272109 0.03436889]\n",
      " [0.03674293 0.04121834]\n",
      " [0.02537646 0.02704788]\n",
      " [0.02645921 0.02796755]\n",
      " [0.03200372 0.03386153]\n",
      " [0.02077465 0.02148311]\n",
      " [0.03065609 0.03232885]\n",
      " [0.02886278 0.03097848]\n",
      " [0.03109728 0.03373527]\n",
      " [0.03690542 0.03978383]\n",
      " [0.03327412 0.03609558]\n",
      " [0.02928143 0.03172358]\n",
      " [0.02409065 0.35710078]\n",
      " [0.03205351 0.03517374]]\n"
     ]
    }
   ],
   "source": [
    "for i in range(10000):\n",
    "  F = alpha * S.dot(F) + beta * Y\n",
    "  \n",
    "print(F)"
   ]
  },
  {
   "cell_type": "code",
   "execution_count": null,
   "metadata": {},
   "outputs": [],
   "source": []
  }
 ],
 "metadata": {
  "kernelspec": {
   "display_name": "Python 3",
   "language": "python",
   "name": "python3"
  },
  "language_info": {
   "codemirror_mode": {
    "name": "ipython",
    "version": 3
   },
   "file_extension": ".py",
   "mimetype": "text/x-python",
   "name": "python",
   "nbconvert_exporter": "python",
   "pygments_lexer": "ipython3",
   "version": "3.8.7"
  }
 },
 "nbformat": 4,
 "nbformat_minor": 4
}
