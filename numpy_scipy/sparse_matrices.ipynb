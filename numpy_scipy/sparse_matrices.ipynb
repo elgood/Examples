{
 "cells": [
  {
   "cell_type": "code",
   "execution_count": 66,
   "metadata": {},
   "outputs": [],
   "source": [
    "import numpy as np\n",
    "from scipy.sparse import (csr_matrix, csr_matrix, coo_matrix,\n",
    "                bsr_matrix, dia_matrix, dok_matrix, lil_matrix)\n",
    "from numpy.random import rand\n",
    "from time import time\n",
    "import random\n",
    "\n",
    "n = 10000 # dimension of matrix"
   ]
  },
  {
   "cell_type": "markdown",
   "metadata": {},
   "source": [
    "# List of Lists format (lil_matrix)"
   ]
  },
  {
   "cell_type": "markdown",
   "metadata": {},
   "source": [
    "Create a list of list matrix that is of size n x n.  We will fill that one with random values.  Also create lil matrix that is identity."
   ]
  },
  {
   "cell_type": "code",
   "execution_count": 67,
   "metadata": {},
   "outputs": [],
   "source": [
    "lil1 = lil_matrix((n,n))\n",
    "lilIdentity = lil_matrix((n,n))"
   ]
  },
  {
   "cell_type": "markdown",
   "metadata": {},
   "source": [
    "Fill the first one hundred values of the zeroth row with random numbers over the distribution [0, 1).  Then fill the diagonal also with random numbers."
   ]
  },
  {
   "cell_type": "code",
   "execution_count": 68,
   "metadata": {},
   "outputs": [],
   "source": [
    "lil1[0, :100] = rand(100)\n",
    "lil1.setdiag(rand(n))\n"
   ]
  },
  {
   "cell_type": "markdown",
   "metadata": {},
   "source": [
    "Fill in the identity matrix."
   ]
  },
  {
   "cell_type": "code",
   "execution_count": 69,
   "metadata": {},
   "outputs": [],
   "source": [
    "for i in range(n):\n",
    "    lilIdentity[i,i] = 1"
   ]
  },
  {
   "cell_type": "markdown",
   "metadata": {},
   "source": [
    "See how long it takes to multiply a lil matrix with another lil matrix."
   ]
  },
  {
   "cell_type": "code",
   "execution_count": 70,
   "metadata": {},
   "outputs": [
    {
     "name": "stdout",
     "output_type": "stream",
     "text": [
      "Time(s) for lil multiply: 0.004514932632446289\n"
     ]
    }
   ],
   "source": [
    "time1 = time()\n",
    "lil1 = lil1*lilIdentity\n",
    "print(\"Time(s) for lil multiply: \" + str(time() - time1))"
   ]
  },
  {
   "cell_type": "markdown",
   "metadata": {},
   "source": [
    "Convert them to dense matrices and see how long the multiply takes."
   ]
  },
  {
   "cell_type": "code",
   "execution_count": 71,
   "metadata": {},
   "outputs": [
    {
     "name": "stdout",
     "output_type": "stream",
     "text": [
      "Time(s) for dense multiple: 1.3394899368286133\n"
     ]
    }
   ],
   "source": [
    "dense1 = lil1.toarray()\n",
    "denseIdentity = lilIdentity.toarray()\n",
    "time1 = time()\n",
    "dense1 = dense1 * denseIdentity\n",
    "print(\"Time(s) for dense multiple: \" + str(time() - time1))"
   ]
  },
  {
   "cell_type": "markdown",
   "metadata": {},
   "source": [
    "Now how does adding matrices compare?"
   ]
  },
  {
   "cell_type": "code",
   "execution_count": 72,
   "metadata": {},
   "outputs": [
    {
     "name": "stdout",
     "output_type": "stream",
     "text": [
      "Time(s) for lil add: 0.0005180835723876953\n"
     ]
    }
   ],
   "source": [
    "lil2 = lil1\n",
    "time1 = time()\n",
    "lil2 = lil2 + lil2\n",
    "print(\"Time(s) for lil add: \" + str(time() - time1))"
   ]
  },
  {
   "cell_type": "code",
   "execution_count": 73,
   "metadata": {},
   "outputs": [
    {
     "name": "stdout",
     "output_type": "stream",
     "text": [
      "Time(s) for dense add: 0.7278659343719482\n"
     ]
    }
   ],
   "source": [
    "dense1 = lil1.toarray()\n",
    "denseIdentity = lilIdentity.toarray()\n",
    "time1 = time()\n",
    "dense1 = dense1 + dense1\n",
    "print(\"Time(s) for dense add: \" + str(time() - time1))"
   ]
  },
  {
   "cell_type": "markdown",
   "metadata": {},
   "source": [
    "What happens when a lil matrix has many values?"
   ]
  },
  {
   "cell_type": "code",
   "execution_count": 74,
   "metadata": {},
   "outputs": [
    {
     "name": "stdout",
     "output_type": "stream",
     "text": [
      "Fraction nonzero: 0.04877084\n",
      "Time for lil multiply: 10.2641441822052\n",
      "Time for dense multiply: 0.48388195037841797\n"
     ]
    }
   ],
   "source": [
    "lilManyValues = lil_matrix((n,n))\n",
    "numValues = 5000000\n",
    "for i in range(numValues):\n",
    "    i = random.randrange(n)\n",
    "    j = random.randrange(n)\n",
    "    lilManyValues[i,j] = 1\n",
    "print(\"Fraction nonzero: \" + str(lilManyValues.count_nonzero() / (n*n)))\n",
    "    \n",
    "time1 = time()\n",
    "lilManyValues = lilManyValues * lilManyValues\n",
    "print(\"Time for lil multiply: \" + str(time() - time1))\n",
    "\n",
    "denseManyValues = lilManyValues.toarray()\n",
    "time1 = time()\n",
    "denseManyValues = denseManyValues * denseManyValues\n",
    "print(\"Time for dense multiply: \" + str(time() - time1))"
   ]
  },
  {
   "cell_type": "markdown",
   "metadata": {},
   "source": [
    "# Compressed Sparse Row (csr_matrix) and Compressed Sparse Column (csc_matrix)"
   ]
  },
  {
   "cell_type": "code",
   "execution_count": 75,
   "metadata": {},
   "outputs": [],
   "source": [
    "csr1 = lil1.tocsr()\n",
    "csc1 = lil1.tocsc()\n",
    "csrIdentity = lilIdentity.tocsr()\n",
    "cscIdentity = lilIdentity.tocsc()"
   ]
  },
  {
   "cell_type": "code",
   "execution_count": 76,
   "metadata": {},
   "outputs": [
    {
     "name": "stdout",
     "output_type": "stream",
     "text": [
      "Time(s) for multiply: 0.0007600784301757812\n"
     ]
    }
   ],
   "source": [
    "time1 = time()\n",
    "csr1 = csr1*csrIdentity\n",
    "print(\"Time(s) for csr multiply: \" + str(time() - time1))"
   ]
  },
  {
   "cell_type": "code",
   "execution_count": 77,
   "metadata": {},
   "outputs": [
    {
     "name": "stdout",
     "output_type": "stream",
     "text": [
      "0.0007328987121582031\n"
     ]
    }
   ],
   "source": [
    "csr2 = csr1\n",
    "time1 = time()\n",
    "csr2 = csr2 + csr2\n",
    "print(\"Time(s) for csr add: \" + str(time() - time1))"
   ]
  },
  {
   "cell_type": "code",
   "execution_count": 94,
   "metadata": {},
   "outputs": [
    {
     "name": "stdout",
     "output_type": "stream",
     "text": [
      "Time(s) for accessing rows: 0.873358964920044\n",
      "Time(s) for accessing columns: 2.2400407791137695\n"
     ]
    }
   ],
   "source": [
    "iters = 10000\n",
    "time1 = time()\n",
    "for i in range(iters):\n",
    "    index = random.randrange(n)\n",
    "    row = csr1[index,:]\n",
    "    nnz = row.count_nonzero()\n",
    "print(\"Time(s) for accessing rows: \" + str(time() - time1))\n",
    "for i in range(iters):\n",
    "    index = random.randrange(n)\n",
    "    row = csr1[:,index]\n",
    "    nnz = row.count_nonzero()\n",
    "print(\"Time(s) for accessing columns: \" + str(time() - time1))\n"
   ]
  },
  {
   "cell_type": "code",
   "execution_count": 95,
   "metadata": {},
   "outputs": [
    {
     "name": "stdout",
     "output_type": "stream",
     "text": [
      "Time(s) for accessing rows: 1.3911871910095215\n",
      "Time(s) for accessing columns: 2.2434380054473877\n"
     ]
    }
   ],
   "source": [
    "iters = 10000\n",
    "time1 = time()\n",
    "for i in range(iters):\n",
    "    index = random.randrange(n)\n",
    "    row = csc1[index,:]\n",
    "    nnz = row.count_nonzero()\n",
    "print(\"Time(s) for accessing rows: \" + str(time() - time1))\n",
    "for i in range(iters):\n",
    "    index = random.randrange(n)\n",
    "    row = csc1[:,index]\n",
    "    nnz = row.count_nonzero()\n",
    "print(\"Time(s) for accessing columns: \" + str(time() - time1))"
   ]
  },
  {
   "cell_type": "code",
   "execution_count": null,
   "metadata": {},
   "outputs": [],
   "source": []
  },
  {
   "cell_type": "code",
   "execution_count": null,
   "metadata": {},
   "outputs": [],
   "source": []
  }
 ],
 "metadata": {
  "kernelspec": {
   "display_name": "Python 3",
   "language": "python",
   "name": "python3"
  },
  "language_info": {
   "codemirror_mode": {
    "name": "ipython",
    "version": 3
   },
   "file_extension": ".py",
   "mimetype": "text/x-python",
   "name": "python",
   "nbconvert_exporter": "python",
   "pygments_lexer": "ipython3",
   "version": "3.8.5"
  }
 },
 "nbformat": 4,
 "nbformat_minor": 4
}
