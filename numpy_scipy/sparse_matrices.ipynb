{
 "cells": [
  {
   "cell_type": "code",
   "execution_count": 3,
   "metadata": {},
   "outputs": [],
   "source": [
    "import numpy as np\n",
    "from scipy.sparse import (csr_matrix, csr_matrix, coo_matrix,\n",
    "                bsr_matrix, dia_matrix, dok_matrix, lil_matrix)\n",
    "from numpy.random import rand\n",
    "from time import time\n",
    "import random\n",
    "\n",
    "n = 10000 # dimension of matrix"
   ]
  },
  {
   "cell_type": "markdown",
   "metadata": {},
   "source": [
    "# List of Lists format (lil_matrix)"
   ]
  },
  {
   "cell_type": "markdown",
   "metadata": {},
   "source": [
    "Create a list of list matrix that is of size n x n.  We will fill that one with random values.  Also create lil matrix that is identity."
   ]
  },
  {
   "cell_type": "code",
   "execution_count": 27,
   "metadata": {},
   "outputs": [],
   "source": [
    "lil1 = lil_matrix((n,n))\n",
    "lilIdentity = lil_matrix((n,n))"
   ]
  },
  {
   "cell_type": "markdown",
   "metadata": {},
   "source": [
    "Fill the first one hundred values of the zeroth row with random numbers over the distribution [0, 1).  Then fill the diagonal also with random numbers."
   ]
  },
  {
   "cell_type": "code",
   "execution_count": 28,
   "metadata": {},
   "outputs": [],
   "source": [
    "lil1[0, :100] = rand(100)\n",
    "lil1.setdiag(rand(n))\n"
   ]
  },
  {
   "cell_type": "markdown",
   "metadata": {},
   "source": [
    "Fill in the identity matrix."
   ]
  },
  {
   "cell_type": "code",
   "execution_count": 29,
   "metadata": {},
   "outputs": [],
   "source": [
    "for i in range(n):\n",
    "    lilIdentity[i,i] = 1"
   ]
  },
  {
   "cell_type": "markdown",
   "metadata": {},
   "source": [
    "See how long it takes to multiply a lil matrix with another lil matrix."
   ]
  },
  {
   "cell_type": "code",
   "execution_count": 30,
   "metadata": {},
   "outputs": [
    {
     "name": "stdout",
     "output_type": "stream",
     "text": [
      "Time(s) for lil multiply: 0.004141092300415039\n"
     ]
    }
   ],
   "source": [
    "time1 = time()\n",
    "lil1 = lil1*lilIdentity\n",
    "print(\"Time(s) for lil multiply: \" + str(time() - time1))"
   ]
  },
  {
   "cell_type": "markdown",
   "metadata": {},
   "source": [
    "Convert them to dense matrices and see how long the multiply takes."
   ]
  },
  {
   "cell_type": "code",
   "execution_count": 6,
   "metadata": {},
   "outputs": [
    {
     "name": "stdout",
     "output_type": "stream",
     "text": [
      "Time(s) for dense multiple: 0.799267053604126\n"
     ]
    }
   ],
   "source": [
    "dense1 = lil1.toarray()\n",
    "denseIdentity = lilIdentity.toarray()\n",
    "time1 = time()\n",
    "dense1 = dense1 * denseIdentity\n",
    "print(\"Time(s) for dense multiple: \" + str(time() - time1))"
   ]
  },
  {
   "cell_type": "markdown",
   "metadata": {},
   "source": [
    "Now how does adding matrices compare?"
   ]
  },
  {
   "cell_type": "code",
   "execution_count": 7,
   "metadata": {},
   "outputs": [
    {
     "name": "stdout",
     "output_type": "stream",
     "text": [
      "Time(s) for lil add: 0.0014309883117675781\n"
     ]
    }
   ],
   "source": [
    "lil2 = lil1\n",
    "time1 = time()\n",
    "lil2 = lil2 + lil2\n",
    "print(\"Time(s) for lil add: \" + str(time() - time1))"
   ]
  },
  {
   "cell_type": "code",
   "execution_count": 8,
   "metadata": {},
   "outputs": [
    {
     "name": "stdout",
     "output_type": "stream",
     "text": [
      "Time(s) for dense add: 0.49991512298583984\n"
     ]
    }
   ],
   "source": [
    "dense1 = lil1.toarray()\n",
    "denseIdentity = lilIdentity.toarray()\n",
    "time1 = time()\n",
    "dense1 = dense1 + dense1\n",
    "print(\"Time(s) for dense add: \" + str(time() - time1))"
   ]
  },
  {
   "cell_type": "markdown",
   "metadata": {},
   "source": [
    "What happens when a lil matrix has many values?"
   ]
  },
  {
   "cell_type": "code",
   "execution_count": 9,
   "metadata": {},
   "outputs": [
    {
     "name": "stdout",
     "output_type": "stream",
     "text": [
      "Fraction nonzero: 0.09515335\n",
      "Time for lil multiply: 27.59840989112854\n",
      "Time for dense multiply: 0.3948829174041748\n"
     ]
    }
   ],
   "source": [
    "lilManyValues = lil_matrix((n,n))\n",
    "numValues = int(n*n / 10)\n",
    "for iter in range(numValues):\n",
    "    i = random.randrange(n)\n",
    "    j = random.randrange(n)\n",
    "    lilManyValues[i,j] = 1\n",
    "print(\"Fraction nonzero: \" + str(lilManyValues.count_nonzero() / (n*n)))\n",
    "    \n",
    "time1 = time()\n",
    "lilManyValues = lilManyValues * lilManyValues\n",
    "print(\"Time for lil multiply: \" + str(time() - time1))\n",
    "\n",
    "denseManyValues = lilManyValues.toarray()\n",
    "time1 = time()\n",
    "denseManyValues = denseManyValues * denseManyValues\n",
    "print(\"Time for dense multiply: \" + str(time() - time1))"
   ]
  },
  {
   "cell_type": "markdown",
   "metadata": {},
   "source": [
    "# Compressed Sparse Row (csr_matrix) and Compressed Sparse Column (csc_matrix)"
   ]
  },
  {
   "cell_type": "code",
   "execution_count": 10,
   "metadata": {},
   "outputs": [],
   "source": [
    "csr1 = lil1.tocsr()\n",
    "csc1 = lil1.tocsc()\n",
    "csrIdentity = lilIdentity.tocsr()\n",
    "cscIdentity = lilIdentity.tocsc()"
   ]
  },
  {
   "cell_type": "code",
   "execution_count": 11,
   "metadata": {},
   "outputs": [
    {
     "name": "stdout",
     "output_type": "stream",
     "text": [
      "Time(s) for csr multiply: 0.0010101795196533203\n"
     ]
    }
   ],
   "source": [
    "time1 = time()\n",
    "csr1 = csr1*csr1\n",
    "print(\"Time(s) for csr multiply: \" + str(time() - time1))"
   ]
  },
  {
   "cell_type": "code",
   "execution_count": 12,
   "metadata": {},
   "outputs": [
    {
     "name": "stdout",
     "output_type": "stream",
     "text": [
      "Time(s) for csr add: 0.0008299350738525391\n"
     ]
    }
   ],
   "source": [
    "csr2 = csr1\n",
    "time1 = time()\n",
    "csr2 = csr2 + csr2\n",
    "print(\"Time(s) for csr add: \" + str(time() - time1))"
   ]
  },
  {
   "cell_type": "code",
   "execution_count": 13,
   "metadata": {},
   "outputs": [
    {
     "name": "stdout",
     "output_type": "stream",
     "text": [
      "Time(s) for accessing rows: 0.8638899326324463\n",
      "Time(s) for accessing columns: 2.2232260704040527\n"
     ]
    }
   ],
   "source": [
    "iters = 10000\n",
    "time1 = time()\n",
    "for i in range(iters):\n",
    "    index = random.randrange(n)\n",
    "    row = csr1[index,:]\n",
    "    nnz = row.count_nonzero()\n",
    "print(\"Time(s) for accessing rows: \" + str(time() - time1))\n",
    "for i in range(iters):\n",
    "    index = random.randrange(n)\n",
    "    row = csr1[:,index]\n",
    "    nnz = row.count_nonzero()\n",
    "print(\"Time(s) for accessing columns: \" + str(time() - time1))\n"
   ]
  },
  {
   "cell_type": "code",
   "execution_count": 14,
   "metadata": {},
   "outputs": [
    {
     "name": "stdout",
     "output_type": "stream",
     "text": [
      "Time(s) for accessing rows: 1.3914291858673096\n",
      "Time(s) for accessing columns: 2.2636029720306396\n"
     ]
    }
   ],
   "source": [
    "iters = 10000\n",
    "time1 = time()\n",
    "for i in range(iters):\n",
    "    index = random.randrange(n)\n",
    "    row = csc1[index,:]\n",
    "    nnz = row.count_nonzero()\n",
    "print(\"Time(s) for accessing rows: \" + str(time() - time1))\n",
    "for i in range(iters):\n",
    "    index = random.randrange(n)\n",
    "    row = csc1[:,index]\n",
    "    nnz = row.count_nonzero()\n",
    "print(\"Time(s) for accessing columns: \" + str(time() - time1))"
   ]
  },
  {
   "cell_type": "markdown",
   "metadata": {},
   "source": [
    "# Hindom Optimization Equation "
   ]
  },
  {
   "cell_type": "markdown",
   "metadata": {},
   "source": [
    "F(t+1)=(1/(1+mu)) D^(-1/2) M' D^(-1/2) F(t) + (mu/(1+mu)) Y"
   ]
  },
  {
   "cell_type": "markdown",
   "metadata": {},
   "source": [
    "Create something that looks like M' of Hindom."
   ]
  },
  {
   "cell_type": "code",
   "execution_count": 14,
   "metadata": {},
   "outputs": [
    {
     "name": "stdout",
     "output_type": "stream",
     "text": [
      "Fraction nonzero: 0.01245\n"
     ]
    }
   ],
   "source": [
    "n = 200\n",
    "M = lil_matrix((n,n))\n",
    "numValues = 500\n",
    "for iter in range(numValues):\n",
    "    i = random.randrange(n)\n",
    "    j = random.randrange(n)\n",
    "    M[i,j] = random.random() # [0,1)\n",
    "print(\"Fraction nonzero: \" + str(M.count_nonzero() / (n*n)))\n",
    "M = M.tocsr()"
   ]
  },
  {
   "cell_type": "markdown",
   "metadata": {},
   "source": [
    "Actually have to create an affinity matrix."
   ]
  },
  {
   "cell_type": "code",
   "execution_count": 15,
   "metadata": {},
   "outputs": [
    {
     "name": "stdout",
     "output_type": "stream",
     "text": [
      "Time(s) for computing affinity: 9.18849778175354\n"
     ]
    }
   ],
   "source": [
    "import sys\n",
    "import math\n",
    "import matplotlib.pyplot as plt\n",
    "\n",
    "W = M.toarray()\n",
    "x_values = []\n",
    "y_values = []\n",
    "time1 = time()\n",
    "for i in range(n):\n",
    "    for j in range(n):\n",
    "        if i == j:\n",
    "            W[i,j] = 0\n",
    "        else:\n",
    "            x = M[i,:].toarray() - M[j,:].toarray()\n",
    "            x = np.linalg.norm(x, ord=2)\n",
    "            y = math.exp(-pow(x,2))\n",
    "            #y = math.exp(-x)\n",
    "            x_values.append(x)\n",
    "            y_values.append(y)\n",
    "            W[i,j] = y\n",
    "print(\"Time(s) for computing affinity: \" + str(time() - time1))\n",
    "M = W"
   ]
  },
  {
   "cell_type": "markdown",
   "metadata": {},
   "source": [
    "Here is a plot of the original normed values with the compute affinity (should look like half a gaussian)."
   ]
  },
  {
   "cell_type": "code",
   "execution_count": 17,
   "metadata": {},
   "outputs": [
    {
     "data": {
      "image/png": "[encoded data removed]",
      "text/plain": [
       "<Figure size 432x288 with 1 Axes>"
      ]
     },
     "metadata": {
      "needs_background": "light"
     },
     "output_type": "display_data"
    }
   ],
   "source": [
    "plt.plot(np.array(x_values), np.array(y_values), 'o', color='black');"
   ]
  },
  {
   "cell_type": "markdown",
   "metadata": {},
   "source": [
    "Create diagonal matrix D"
   ]
  },
  {
   "cell_type": "code",
   "execution_count": 18,
   "metadata": {},
   "outputs": [],
   "source": [
    "data = np.squeeze(np.asarray(M.sum(axis=1))) # sum the rows\n",
    "offsets = np.array([0])\n",
    "D = dia_matrix((data, offsets), shape=(n,n))"
   ]
  },
  {
   "cell_type": "markdown",
   "metadata": {},
   "source": [
    "Calculate the exponent (-1/2), which is easy for a diagonal.  We can just take each diagonal element and raise it to (-1/2)."
   ]
  },
  {
   "cell_type": "code",
   "execution_count": 19,
   "metadata": {},
   "outputs": [],
   "source": [
    "D = D.tocsr() # Convert to csr because can't use subscripting\n",
    "for i in range(n):\n",
    "    D[i,i] = D[i,i] ** (-1/2) "
   ]
  },
  {
   "cell_type": "markdown",
   "metadata": {},
   "source": [
    "Create the matrix S"
   ]
  },
  {
   "cell_type": "code",
   "execution_count": 20,
   "metadata": {},
   "outputs": [],
   "source": [
    "S = D * M * D"
   ]
  },
  {
   "cell_type": "markdown",
   "metadata": {},
   "source": [
    "mu is just how we weight each piece, smoothness vs fidelity to known labels"
   ]
  },
  {
   "cell_type": "code",
   "execution_count": 21,
   "metadata": {},
   "outputs": [],
   "source": [
    "mu = 0.95\n",
    "alpha = 1/(1 + mu)\n",
    "beta = mu/(1 + mu)"
   ]
  },
  {
   "cell_type": "markdown",
   "metadata": {},
   "source": [
    "Create some labels. "
   ]
  },
  {
   "cell_type": "code",
   "execution_count": 22,
   "metadata": {},
   "outputs": [],
   "source": [
    "Y = np.zeros((n,2))\n",
    "# Set some to be malicious and benign\n",
    "for i in range(int(n/10)):\n",
    "    index = random.randrange(n)\n",
    "    if i % 2 == 0:\n",
    "        Y[index,0] = 1\n",
    "        Y[index,1] = 0\n",
    "    else:\n",
    "        Y[index,0] = 0\n",
    "        Y[index,1] = 1"
   ]
  },
  {
   "cell_type": "markdown",
   "metadata": {},
   "source": [
    "Set F to be Y."
   ]
  },
  {
   "cell_type": "code",
   "execution_count": 23,
   "metadata": {},
   "outputs": [
    {
     "name": "stdout",
     "output_type": "stream",
     "text": [
      "[[0. 0.]\n",
      " [0. 0.]\n",
      " [0. 0.]\n",
      " [0. 0.]\n",
      " [0. 0.]\n",
      " [0. 0.]\n",
      " [0. 0.]\n",
      " [0. 0.]\n",
      " [0. 0.]\n",
      " [0. 0.]\n",
      " [0. 0.]\n",
      " [0. 0.]\n",
      " [0. 0.]\n",
      " [0. 0.]\n",
      " [0. 0.]\n",
      " [0. 0.]\n",
      " [0. 0.]\n",
      " [0. 0.]\n",
      " [0. 0.]\n",
      " [0. 0.]\n",
      " [1. 0.]\n",
      " [0. 0.]\n",
      " [0. 0.]\n",
      " [1. 0.]\n",
      " [0. 0.]\n",
      " [0. 0.]\n",
      " [0. 0.]\n",
      " [0. 0.]\n",
      " [0. 0.]\n",
      " [0. 0.]\n",
      " [1. 0.]\n",
      " [0. 0.]\n",
      " [0. 0.]\n",
      " [0. 0.]\n",
      " [0. 0.]\n",
      " [0. 0.]\n",
      " [0. 0.]\n",
      " [0. 0.]\n",
      " [0. 0.]\n",
      " [0. 0.]\n",
      " [0. 0.]\n",
      " [0. 0.]\n",
      " [0. 0.]\n",
      " [0. 0.]\n",
      " [0. 0.]\n",
      " [0. 0.]\n",
      " [0. 0.]\n",
      " [0. 0.]\n",
      " [0. 0.]\n",
      " [0. 0.]\n",
      " [0. 0.]\n",
      " [0. 0.]\n",
      " [0. 0.]\n",
      " [0. 0.]\n",
      " [0. 1.]\n",
      " [0. 0.]\n",
      " [0. 0.]\n",
      " [0. 0.]\n",
      " [0. 0.]\n",
      " [0. 0.]\n",
      " [0. 0.]\n",
      " [0. 0.]\n",
      " [0. 0.]\n",
      " [0. 0.]\n",
      " [0. 1.]\n",
      " [0. 0.]\n",
      " [0. 0.]\n",
      " [0. 0.]\n",
      " [0. 0.]\n",
      " [0. 0.]\n",
      " [0. 0.]\n",
      " [0. 0.]\n",
      " [0. 1.]\n",
      " [0. 0.]\n",
      " [0. 0.]\n",
      " [0. 0.]\n",
      " [0. 0.]\n",
      " [0. 0.]\n",
      " [0. 1.]\n",
      " [0. 0.]\n",
      " [1. 0.]\n",
      " [0. 0.]\n",
      " [0. 0.]\n",
      " [0. 0.]\n",
      " [0. 0.]\n",
      " [0. 0.]\n",
      " [0. 0.]\n",
      " [0. 0.]\n",
      " [0. 1.]\n",
      " [0. 0.]\n",
      " [0. 0.]\n",
      " [0. 0.]\n",
      " [0. 0.]\n",
      " [1. 0.]\n",
      " [0. 0.]\n",
      " [0. 0.]\n",
      " [0. 0.]\n",
      " [0. 0.]\n",
      " [0. 0.]\n",
      " [0. 0.]]\n"
     ]
    }
   ],
   "source": [
    "F = Y\n",
    "print(F)"
   ]
  },
  {
   "cell_type": "markdown",
   "metadata": {},
   "source": [
    "Do one iteration"
   ]
  },
  {
   "cell_type": "code",
   "execution_count": 24,
   "metadata": {},
   "outputs": [
    {
     "name": "stdout",
     "output_type": "stream",
     "text": [
      "[[0.00775376 0.01210722]\n",
      " [0.01713379 0.02353679]\n",
      " [0.02425186 0.02861791]\n",
      " [0.03847417 0.0491304 ]\n",
      " [0.02383899 0.02770945]\n",
      " [0.02114604 0.0168602 ]\n",
      " [0.01033918 0.00798937]\n",
      " [0.02404595 0.02363215]\n",
      " [0.03300134 0.0380312 ]\n",
      " [0.02314392 0.02253736]\n",
      " [0.0127022  0.01453765]\n",
      " [0.01792965 0.02424307]\n",
      " [0.00834603 0.00983918]\n",
      " [0.03578217 0.03199572]\n",
      " [0.03907055 0.04648056]\n",
      " [0.01510152 0.00689346]\n",
      " [0.01245247 0.02079395]\n",
      " [0.03218728 0.04612772]\n",
      " [0.01667312 0.02059033]\n",
      " [0.02336404 0.03622777]\n",
      " [0.50441184 0.02858314]\n",
      " [0.00980523 0.01030264]\n",
      " [0.02511681 0.03027172]\n",
      " [0.50096429 0.0193638 ]\n",
      " [0.02196329 0.02694405]\n",
      " [0.02420076 0.02254205]\n",
      " [0.0334739  0.03934599]\n",
      " [0.014278   0.01698592]\n",
      " [0.02696915 0.02596892]\n",
      " [0.02882555 0.03442641]\n",
      " [0.50130377 0.01128322]\n",
      " [0.02118739 0.02058973]\n",
      " [0.02424609 0.0275255 ]\n",
      " [0.0140921  0.01733037]\n",
      " [0.0316816  0.03537402]\n",
      " [0.03579978 0.04980864]\n",
      " [0.02198857 0.02494236]\n",
      " [0.02638029 0.03136452]\n",
      " [0.01188974 0.01414472]\n",
      " [0.01472305 0.02074468]\n",
      " [0.03521525 0.0325315 ]\n",
      " [0.02623532 0.02745717]\n",
      " [0.0285245  0.03239336]\n",
      " [0.01711974 0.02336899]\n",
      " [0.03392613 0.04036046]\n",
      " [0.03646273 0.04337815]\n",
      " [0.02042336 0.02643416]\n",
      " [0.00890337 0.01443156]\n",
      " [0.02134502 0.02075255]\n",
      " [0.01708253 0.01992213]\n",
      " [0.030009   0.03479057]\n",
      " [0.022097   0.02559719]\n",
      " [0.03340024 0.03973483]\n",
      " [0.02323694 0.03836319]\n",
      " [0.01359978 0.49919162]\n",
      " [0.00957133 0.01165379]\n",
      " [0.00839481 0.00448689]\n",
      " [0.00766949 0.01035306]\n",
      " [0.02267459 0.02697498]\n",
      " [0.01491761 0.01697608]\n",
      " [0.02132411 0.01456732]\n",
      " [0.01101967 0.0220312 ]\n",
      " [0.02247852 0.02551326]\n",
      " [0.01514971 0.01670003]\n",
      " [0.04083431 0.50824762]\n",
      " [0.00567733 0.00675199]\n",
      " [0.01221874 0.01896424]\n",
      " [0.01933042 0.02299658]\n",
      " [0.01016032 0.01202604]\n",
      " [0.02747165 0.03268184]\n",
      " [0.02098941 0.02497021]\n",
      " [0.02258981 0.02945173]\n",
      " [0.02009606 0.50645123]\n",
      " [0.01847317 0.02197674]\n",
      " [0.00836148 0.01040696]\n",
      " [0.02135276 0.0359001 ]\n",
      " [0.02976047 0.03153537]\n",
      " [0.0272712  0.03669667]\n",
      " [0.02954198 0.51205292]\n",
      " [0.01395995 0.01858271]\n",
      " [0.5039951  0.01539503]\n",
      " [0.0179016  0.03677494]\n",
      " [0.00601592 0.01080116]\n",
      " [0.02562222 0.03048166]\n",
      " [0.02079307 0.0313835 ]\n",
      " [0.01452833 0.02450783]\n",
      " [0.0311224  0.03721715]\n",
      " [0.00776698 0.01017127]\n",
      " [0.01729742 0.50423611]\n",
      " [0.0246942  0.02584731]\n",
      " [0.02695608 0.03146809]\n",
      " [0.01755215 0.03966926]\n",
      " [0.0162985  0.01357669]\n",
      " [0.50449256 0.04674436]\n",
      " [0.01223451 0.01455487]\n",
      " [0.01404859 0.02581246]\n",
      " [0.01546272 0.01952218]\n",
      " [0.01832832 0.01964924]\n",
      " [0.01805421 0.02505897]\n",
      " [0.03948541 0.0469741 ]]\n"
     ]
    }
   ],
   "source": [
    "F = alpha * S.dot(F) + beta * Y\n",
    "print(F)"
   ]
  },
  {
   "cell_type": "code",
   "execution_count": 25,
   "metadata": {},
   "outputs": [
    {
     "name": "stdout",
     "output_type": "stream",
     "text": [
      "[[0.00868228 0.01179546]\n",
      " [0.01883261 0.02402131]\n",
      " [0.02460514 0.02931266]\n",
      " [0.03521537 0.04366012]\n",
      " [0.02325208 0.02744459]\n",
      " [0.01764298 0.01696043]\n",
      " [0.0096706  0.00940985]\n",
      " [0.02341537 0.02554948]\n",
      " [0.03319252 0.03910941]\n",
      " [0.02044018 0.02203138]\n",
      " [0.013659   0.01600185]\n",
      " [0.01923286 0.02439745]\n",
      " [0.00950193 0.01123545]\n",
      " [0.0318613  0.03290747]\n",
      " [0.03899624 0.04657636]\n",
      " [0.01166794 0.00847124]\n",
      " [0.01375092 0.01939757]\n",
      " [0.0325578  0.04266708]\n",
      " [0.01691016 0.02077938]\n",
      " [0.02470359 0.03360645]\n",
      " [0.50848778 0.02937428]\n",
      " [0.01057666 0.01198437]\n",
      " [0.02562863 0.03079316]\n",
      " [0.50363402 0.02092283]\n",
      " [0.02312772 0.02804491]\n",
      " [0.02239334 0.02352283]\n",
      " [0.03371126 0.04006234]\n",
      " [0.0152834  0.01826165]\n",
      " [0.02570989 0.02770416]\n",
      " [0.02936705 0.03509954]\n",
      " [0.49913716 0.01148752]\n",
      " [0.02093025 0.02261108]\n",
      " [0.02472612 0.02884185]\n",
      " [0.01492525 0.01810242]\n",
      " [0.02740438 0.0316777 ]\n",
      " [0.03069123 0.0400321 ]\n",
      " [0.02182189 0.02543607]\n",
      " [0.0255735  0.03051672]\n",
      " [0.01271402 0.01515712]\n",
      " [0.01312335 0.01729624]\n",
      " [0.03245715 0.03412179]\n",
      " [0.02586141 0.02901184]\n",
      " [0.02904312 0.03395171]\n",
      " [0.0167694  0.02148571]\n",
      " [0.03449997 0.04120927]\n",
      " [0.0366835  0.04381942]\n",
      " [0.01965878 0.02452707]\n",
      " [0.00993142 0.01373713]\n",
      " [0.02067243 0.02242117]\n",
      " [0.01784159 0.02110648]\n",
      " [0.02647065 0.03112267]\n",
      " [0.02297833 0.0271221 ]\n",
      " [0.0340468  0.04062899]\n",
      " [0.02414072 0.03406077]\n",
      " [0.01405115 0.50203319]\n",
      " [0.01036588 0.01255128]\n",
      " [0.00620447 0.00472933]\n",
      " [0.00704913 0.00902374]\n",
      " [0.02332338 0.02787983]\n",
      " [0.01293778 0.01514222]\n",
      " [0.01787816 0.01603693]\n",
      " [0.01187158 0.01856385]\n",
      " [0.02253081 0.0263378 ]\n",
      " [0.0154445  0.01781448]\n",
      " [0.03398985 0.51477567]\n",
      " [0.00635464 0.00760643]\n",
      " [0.01357625 0.01841555]\n",
      " [0.02049222 0.0244663 ]\n",
      " [0.01115352 0.01330611]\n",
      " [0.02879283 0.03438802]\n",
      " [0.02136019 0.02550558]\n",
      " [0.02384235 0.0297643 ]\n",
      " [0.02119678 0.5103674 ]\n",
      " [0.01950026 0.02329831]\n",
      " [0.00799846 0.00975768]\n",
      " [0.02297583 0.03277681]\n",
      " [0.02933703 0.033101  ]\n",
      " [0.02823488 0.03587272]\n",
      " [0.02973705 0.5177577 ]\n",
      " [0.01509596 0.0189948 ]\n",
      " [0.50271324 0.01620617]\n",
      " [0.01928614 0.03068841]\n",
      " [0.00562704 0.00852564]\n",
      " [0.02624512 0.03132773]\n",
      " [0.02153857 0.02905815]\n",
      " [0.01458825 0.02120545]\n",
      " [0.03121409 0.03738527]\n",
      " [0.00716526 0.00900679]\n",
      " [0.01908058 0.50871721]\n",
      " [0.02421478 0.02708357]\n",
      " [0.02753663 0.03258349]\n",
      " [0.0187094  0.03153424]\n",
      " [0.01465214 0.01469876]\n",
      " [0.51023434 0.04006461]\n",
      " [0.01372774 0.01643918]\n",
      " [0.01494118 0.02225261]\n",
      " [0.01669851 0.02059196]\n",
      " [0.019045   0.02168105]\n",
      " [0.01830849 0.02361087]\n",
      " [0.03927724 0.04692293]]\n"
     ]
    }
   ],
   "source": [
    "for i in range(10000):\n",
    "  F = alpha * S.dot(F) + beta * Y\n",
    "  \n",
    "print(F)"
   ]
  },
  {
   "cell_type": "code",
   "execution_count": null,
   "metadata": {},
   "outputs": [],
   "source": []
  }
 ],
 "metadata": {
  "kernelspec": {
   "display_name": "examples",
   "language": "python",
   "name": "examples"
  },
  "language_info": {
   "codemirror_mode": {
    "name": "ipython",
    "version": 3
   },
   "file_extension": ".py",
   "mimetype": "text/x-python",
   "name": "python",
   "nbconvert_exporter": "python",
   "pygments_lexer": "ipython3",
   "version": "3.8.7"
  }
 },
 "nbformat": 4,
 "nbformat_minor": 4
}
